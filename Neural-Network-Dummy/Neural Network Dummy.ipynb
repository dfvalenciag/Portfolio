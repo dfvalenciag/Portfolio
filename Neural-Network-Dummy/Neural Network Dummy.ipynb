{
 "cells": [
  {
   "cell_type": "code",
   "execution_count": 1,
   "metadata": {},
   "outputs": [],
   "source": [
    "import tensorflow as tf\n",
    "from tensorflow import keras\n",
    "from tensorflow.keras import layers\n",
    "from sklearn.model_selection import train_test_split\n",
    "import numpy as np\n",
    "import matplotlib.pyplot as plt"
   ]
  },
  {
   "cell_type": "code",
   "execution_count": 2,
   "metadata": {},
   "outputs": [],
   "source": [
    "# Generate some example data (you should replace this with your actual data)\n",
    "X = np.random.rand(100, 1)\n",
    "y = 2 * X + 1 + 0.1 * np.random.randn(100, 1)"
   ]
  },
  {
   "cell_type": "code",
   "execution_count": 3,
   "metadata": {},
   "outputs": [],
   "source": [
    "X_train, X_test, y_train, y_test = train_test_split(X, y, test_size=0.2, random_state=42)"
   ]
  },
  {
   "cell_type": "markdown",
   "metadata": {},
   "source": [
    "### Create the neural network model"
   ]
  },
  {
   "cell_type": "code",
   "execution_count": 4,
   "metadata": {},
   "outputs": [],
   "source": [
    "model = keras.Sequential([\n",
    "    layers.Input(shape=(1,)),        # Input layer\n",
    "    layers.Dense(32, activation='relu'),  # Hidden layer with 32 neurons and ReLU activation\n",
    "    layers.Dense(1)                  # Output layer with a single neuron (for regression)\n",
    "])"
   ]
  },
  {
   "cell_type": "markdown",
   "metadata": {},
   "source": [
    "#### Compile the model with a loss function and an optimizer"
   ]
  },
  {
   "cell_type": "code",
   "execution_count": 5,
   "metadata": {},
   "outputs": [],
   "source": [
    "model.compile(optimizer='adam', loss='mean_squared_error')"
   ]
  },
  {
   "cell_type": "markdown",
   "metadata": {},
   "source": [
    "#### Train the model"
   ]
  },
  {
   "cell_type": "code",
   "execution_count": 6,
   "metadata": {},
   "outputs": [
    {
     "name": "stdout",
     "output_type": "stream",
     "text": [
      "Epoch 1/100\n",
      "3/3 [==============================] - 0s 56ms/step - loss: 4.4050 - val_loss: 4.7064\n",
      "Epoch 2/100\n",
      "3/3 [==============================] - 0s 11ms/step - loss: 4.2990 - val_loss: 4.5936\n",
      "Epoch 3/100\n",
      "3/3 [==============================] - 0s 11ms/step - loss: 4.1977 - val_loss: 4.4815\n",
      "Epoch 4/100\n",
      "3/3 [==============================] - 0s 11ms/step - loss: 4.0920 - val_loss: 4.3710\n",
      "Epoch 5/100\n",
      "3/3 [==============================] - 0s 11ms/step - loss: 3.9914 - val_loss: 4.2609\n",
      "Epoch 6/100\n",
      "3/3 [==============================] - 0s 11ms/step - loss: 3.8906 - val_loss: 4.1517\n",
      "Epoch 7/100\n",
      "3/3 [==============================] - 0s 11ms/step - loss: 3.7910 - val_loss: 4.0435\n",
      "Epoch 8/100\n",
      "3/3 [==============================] - 0s 10ms/step - loss: 3.6925 - val_loss: 3.9365\n",
      "Epoch 9/100\n",
      "3/3 [==============================] - 0s 11ms/step - loss: 3.5927 - val_loss: 3.8311\n",
      "Epoch 10/100\n",
      "3/3 [==============================] - 0s 11ms/step - loss: 3.4977 - val_loss: 3.7265\n",
      "Epoch 11/100\n",
      "3/3 [==============================] - 0s 11ms/step - loss: 3.4010 - val_loss: 3.6230\n",
      "Epoch 12/100\n",
      "3/3 [==============================] - 0s 10ms/step - loss: 3.3101 - val_loss: 3.5204\n",
      "Epoch 13/100\n",
      "3/3 [==============================] - 0s 11ms/step - loss: 3.2160 - val_loss: 3.4202\n",
      "Epoch 14/100\n",
      "3/3 [==============================] - 0s 10ms/step - loss: 3.1246 - val_loss: 3.3218\n",
      "Epoch 15/100\n",
      "3/3 [==============================] - 0s 10ms/step - loss: 3.0344 - val_loss: 3.2242\n",
      "Epoch 16/100\n",
      "3/3 [==============================] - 0s 11ms/step - loss: 2.9436 - val_loss: 3.1277\n",
      "Epoch 17/100\n",
      "3/3 [==============================] - 0s 11ms/step - loss: 2.8568 - val_loss: 3.0314\n",
      "Epoch 18/100\n",
      "3/3 [==============================] - 0s 11ms/step - loss: 2.7684 - val_loss: 2.9363\n",
      "Epoch 19/100\n",
      "3/3 [==============================] - 0s 11ms/step - loss: 2.6824 - val_loss: 2.8421\n",
      "Epoch 20/100\n",
      "3/3 [==============================] - 0s 11ms/step - loss: 2.5960 - val_loss: 2.7496\n",
      "Epoch 21/100\n",
      "3/3 [==============================] - 0s 11ms/step - loss: 2.5109 - val_loss: 2.6585\n",
      "Epoch 22/100\n",
      "3/3 [==============================] - 0s 10ms/step - loss: 2.4284 - val_loss: 2.5682\n",
      "Epoch 23/100\n",
      "3/3 [==============================] - 0s 10ms/step - loss: 2.3435 - val_loss: 2.4790\n",
      "Epoch 24/100\n",
      "3/3 [==============================] - 0s 11ms/step - loss: 2.2635 - val_loss: 2.3901\n",
      "Epoch 25/100\n",
      "3/3 [==============================] - 0s 11ms/step - loss: 2.1824 - val_loss: 2.3024\n",
      "Epoch 26/100\n",
      "3/3 [==============================] - 0s 10ms/step - loss: 2.1021 - val_loss: 2.2161\n",
      "Epoch 27/100\n",
      "3/3 [==============================] - 0s 10ms/step - loss: 2.0242 - val_loss: 2.1311\n",
      "Epoch 28/100\n",
      "3/3 [==============================] - 0s 11ms/step - loss: 1.9459 - val_loss: 2.0477\n",
      "Epoch 29/100\n",
      "3/3 [==============================] - 0s 10ms/step - loss: 1.8669 - val_loss: 1.9661\n",
      "Epoch 30/100\n",
      "3/3 [==============================] - 0s 10ms/step - loss: 1.7926 - val_loss: 1.8851\n",
      "Epoch 31/100\n",
      "3/3 [==============================] - 0s 11ms/step - loss: 1.7183 - val_loss: 1.8054\n",
      "Epoch 32/100\n",
      "3/3 [==============================] - 0s 26ms/step - loss: 1.6448 - val_loss: 1.7273\n",
      "Epoch 33/100\n",
      "3/3 [==============================] - 0s 12ms/step - loss: 1.5734 - val_loss: 1.6506\n",
      "Epoch 34/100\n",
      "3/3 [==============================] - 0s 13ms/step - loss: 1.5046 - val_loss: 1.5753\n",
      "Epoch 35/100\n",
      "3/3 [==============================] - 0s 12ms/step - loss: 1.4352 - val_loss: 1.5020\n",
      "Epoch 36/100\n",
      "3/3 [==============================] - 0s 11ms/step - loss: 1.3685 - val_loss: 1.4307\n",
      "Epoch 37/100\n",
      "3/3 [==============================] - 0s 12ms/step - loss: 1.3044 - val_loss: 1.3615\n",
      "Epoch 38/100\n",
      "3/3 [==============================] - 0s 13ms/step - loss: 1.2407 - val_loss: 1.2947\n",
      "Epoch 39/100\n",
      "3/3 [==============================] - 0s 15ms/step - loss: 1.1788 - val_loss: 1.2299\n",
      "Epoch 40/100\n",
      "3/3 [==============================] - 0s 13ms/step - loss: 1.1200 - val_loss: 1.1667\n",
      "Epoch 41/100\n",
      "3/3 [==============================] - 0s 12ms/step - loss: 1.0616 - val_loss: 1.1056\n",
      "Epoch 42/100\n",
      "3/3 [==============================] - 0s 12ms/step - loss: 1.0068 - val_loss: 1.0461\n",
      "Epoch 43/100\n",
      "3/3 [==============================] - 0s 11ms/step - loss: 0.9523 - val_loss: 0.9885\n",
      "Epoch 44/100\n",
      "3/3 [==============================] - 0s 10ms/step - loss: 0.9002 - val_loss: 0.9326\n",
      "Epoch 45/100\n",
      "3/3 [==============================] - 0s 11ms/step - loss: 0.8471 - val_loss: 0.8790\n",
      "Epoch 46/100\n",
      "3/3 [==============================] - 0s 11ms/step - loss: 0.7991 - val_loss: 0.8266\n",
      "Epoch 47/100\n",
      "3/3 [==============================] - 0s 12ms/step - loss: 0.7520 - val_loss: 0.7762\n",
      "Epoch 48/100\n",
      "3/3 [==============================] - 0s 15ms/step - loss: 0.7047 - val_loss: 0.7281\n",
      "Epoch 49/100\n",
      "3/3 [==============================] - 0s 12ms/step - loss: 0.6611 - val_loss: 0.6818\n",
      "Epoch 50/100\n",
      "3/3 [==============================] - 0s 11ms/step - loss: 0.6199 - val_loss: 0.6372\n",
      "Epoch 51/100\n",
      "3/3 [==============================] - 0s 16ms/step - loss: 0.5785 - val_loss: 0.5948\n",
      "Epoch 52/100\n",
      "3/3 [==============================] - 0s 10ms/step - loss: 0.5414 - val_loss: 0.5541\n",
      "Epoch 53/100\n",
      "3/3 [==============================] - 0s 11ms/step - loss: 0.5048 - val_loss: 0.5155\n",
      "Epoch 54/100\n",
      "3/3 [==============================] - 0s 11ms/step - loss: 0.4688 - val_loss: 0.4793\n",
      "Epoch 55/100\n",
      "3/3 [==============================] - 0s 11ms/step - loss: 0.4374 - val_loss: 0.4445\n",
      "Epoch 56/100\n",
      "3/3 [==============================] - 0s 11ms/step - loss: 0.4043 - val_loss: 0.4121\n",
      "Epoch 57/100\n",
      "3/3 [==============================] - 0s 11ms/step - loss: 0.3751 - val_loss: 0.3813\n",
      "Epoch 58/100\n",
      "3/3 [==============================] - 0s 10ms/step - loss: 0.3482 - val_loss: 0.3519\n",
      "Epoch 59/100\n",
      "3/3 [==============================] - 0s 11ms/step - loss: 0.3214 - val_loss: 0.3247\n",
      "Epoch 60/100\n",
      "3/3 [==============================] - 0s 10ms/step - loss: 0.2969 - val_loss: 0.2991\n",
      "Epoch 61/100\n",
      "3/3 [==============================] - 0s 11ms/step - loss: 0.2744 - val_loss: 0.2750\n",
      "Epoch 62/100\n",
      "3/3 [==============================] - 0s 10ms/step - loss: 0.2520 - val_loss: 0.2527\n",
      "Epoch 63/100\n",
      "3/3 [==============================] - 0s 11ms/step - loss: 0.2317 - val_loss: 0.2319\n",
      "Epoch 64/100\n",
      "3/3 [==============================] - 0s 12ms/step - loss: 0.2136 - val_loss: 0.2123\n",
      "Epoch 65/100\n",
      "3/3 [==============================] - 0s 11ms/step - loss: 0.1956 - val_loss: 0.1943\n",
      "Epoch 66/100\n",
      "3/3 [==============================] - 0s 10ms/step - loss: 0.1797 - val_loss: 0.1775\n",
      "Epoch 67/100\n",
      "3/3 [==============================] - 0s 13ms/step - loss: 0.1648 - val_loss: 0.1619\n",
      "Epoch 68/100\n",
      "3/3 [==============================] - 0s 11ms/step - loss: 0.1510 - val_loss: 0.1476\n",
      "Epoch 69/100\n",
      "3/3 [==============================] - 0s 12ms/step - loss: 0.1388 - val_loss: 0.1343\n",
      "Epoch 70/100\n",
      "3/3 [==============================] - 0s 11ms/step - loss: 0.1267 - val_loss: 0.1225\n",
      "Epoch 71/100\n",
      "3/3 [==============================] - 0s 12ms/step - loss: 0.1161 - val_loss: 0.1116\n",
      "Epoch 72/100\n",
      "3/3 [==============================] - 0s 11ms/step - loss: 0.1064 - val_loss: 0.1017\n",
      "Epoch 73/100\n",
      "3/3 [==============================] - 0s 12ms/step - loss: 0.0975 - val_loss: 0.0926\n",
      "Epoch 74/100\n",
      "3/3 [==============================] - 0s 11ms/step - loss: 0.0895 - val_loss: 0.0842\n",
      "Epoch 75/100\n",
      "3/3 [==============================] - 0s 10ms/step - loss: 0.0822 - val_loss: 0.0765\n",
      "Epoch 76/100\n",
      "3/3 [==============================] - 0s 12ms/step - loss: 0.0752 - val_loss: 0.0695\n",
      "Epoch 77/100\n",
      "3/3 [==============================] - 0s 11ms/step - loss: 0.0691 - val_loss: 0.0632\n",
      "Epoch 78/100\n",
      "3/3 [==============================] - 0s 11ms/step - loss: 0.0637 - val_loss: 0.0574\n",
      "Epoch 79/100\n",
      "3/3 [==============================] - 0s 10ms/step - loss: 0.0588 - val_loss: 0.0522\n",
      "Epoch 80/100\n",
      "3/3 [==============================] - 0s 11ms/step - loss: 0.0543 - val_loss: 0.0475\n",
      "Epoch 81/100\n",
      "3/3 [==============================] - 0s 16ms/step - loss: 0.0501 - val_loss: 0.0434\n",
      "Epoch 82/100\n",
      "3/3 [==============================] - 0s 11ms/step - loss: 0.0465 - val_loss: 0.0396\n",
      "Epoch 83/100\n",
      "3/3 [==============================] - 0s 11ms/step - loss: 0.0434 - val_loss: 0.0363\n",
      "Epoch 84/100\n",
      "3/3 [==============================] - 0s 11ms/step - loss: 0.0405 - val_loss: 0.0334\n",
      "Epoch 85/100\n",
      "3/3 [==============================] - 0s 11ms/step - loss: 0.0379 - val_loss: 0.0308\n",
      "Epoch 86/100\n",
      "3/3 [==============================] - 0s 11ms/step - loss: 0.0360 - val_loss: 0.0285\n",
      "Epoch 87/100\n",
      "3/3 [==============================] - 0s 11ms/step - loss: 0.0339 - val_loss: 0.0265\n",
      "Epoch 88/100\n",
      "3/3 [==============================] - 0s 11ms/step - loss: 0.0321 - val_loss: 0.0247\n",
      "Epoch 89/100\n",
      "3/3 [==============================] - 0s 11ms/step - loss: 0.0307 - val_loss: 0.0232\n",
      "Epoch 90/100\n",
      "3/3 [==============================] - 0s 11ms/step - loss: 0.0295 - val_loss: 0.0218\n",
      "Epoch 91/100\n",
      "3/3 [==============================] - 0s 11ms/step - loss: 0.0282 - val_loss: 0.0206\n",
      "Epoch 92/100\n",
      "3/3 [==============================] - 0s 11ms/step - loss: 0.0272 - val_loss: 0.0195\n",
      "Epoch 93/100\n",
      "3/3 [==============================] - 0s 11ms/step - loss: 0.0263 - val_loss: 0.0185\n",
      "Epoch 94/100\n",
      "3/3 [==============================] - 0s 11ms/step - loss: 0.0256 - val_loss: 0.0177\n",
      "Epoch 95/100\n",
      "3/3 [==============================] - 0s 11ms/step - loss: 0.0248 - val_loss: 0.0169\n",
      "Epoch 96/100\n",
      "3/3 [==============================] - 0s 11ms/step - loss: 0.0242 - val_loss: 0.0163\n",
      "Epoch 97/100\n",
      "3/3 [==============================] - 0s 11ms/step - loss: 0.0237 - val_loss: 0.0157\n",
      "Epoch 98/100\n",
      "3/3 [==============================] - 0s 11ms/step - loss: 0.0231 - val_loss: 0.0151\n",
      "Epoch 99/100\n",
      "3/3 [==============================] - 0s 11ms/step - loss: 0.0228 - val_loss: 0.0147\n",
      "Epoch 100/100\n",
      "3/3 [==============================] - 0s 11ms/step - loss: 0.0225 - val_loss: 0.0143\n"
     ]
    },
    {
     "data": {
      "text/plain": [
       "<keras.callbacks.History at 0x1cbafe39e80>"
      ]
     },
     "execution_count": 6,
     "metadata": {},
     "output_type": "execute_result"
    }
   ],
   "source": [
    "# Adjust the number of epochs and batch size based on your data and resources.\n",
    "model.fit(X_train, y_train, epochs=100, batch_size=32, validation_data=(X_test, y_test))"
   ]
  },
  {
   "cell_type": "markdown",
   "metadata": {},
   "source": [
    "#### Evaluate the model"
   ]
  },
  {
   "cell_type": "code",
   "execution_count": 7,
   "metadata": {},
   "outputs": [
    {
     "name": "stdout",
     "output_type": "stream",
     "text": [
      "1/1 [==============================] - 0s 18ms/step - loss: 0.0143\n",
      "Test Loss: 0.0143\n"
     ]
    }
   ],
   "source": [
    "# Evaluate the model on the test data\n",
    "test_loss = model.evaluate(X_test, y_test)\n",
    "print(f\"Test Loss: {test_loss:.4f}\")"
   ]
  },
  {
   "cell_type": "markdown",
   "metadata": {},
   "source": [
    "#### Make predictions"
   ]
  },
  {
   "cell_type": "code",
   "execution_count": 8,
   "metadata": {},
   "outputs": [
    {
     "name": "stdout",
     "output_type": "stream",
     "text": [
      "1/1 [==============================] - 0s 57ms/step\n",
      "[[1.9870808]\n",
      " [2.468981 ]]\n"
     ]
    }
   ],
   "source": [
    "# Use the trained model to make predictions on new data\n",
    "new_data = np.array([[0.5], [0.8]])\n",
    "predictions = model.predict(new_data)\n",
    "print(predictions)"
   ]
  },
  {
   "cell_type": "markdown",
   "metadata": {},
   "source": [
    "#### Visualize the neural network regression model’s predictions"
   ]
  },
  {
   "cell_type": "code",
   "execution_count": 9,
   "metadata": {},
   "outputs": [
    {
     "data": {
      "image/png": "[encoded data removed]",
      "text/plain": [
       "<Figure size 640x480 with 1 Axes>"
      ]
     },
     "metadata": {},
     "output_type": "display_data"
    }
   ],
   "source": [
    "# Plot the actual data and model predictions\n",
    "plt.scatter(X_train, y_train, label='Training Data', color='blue')\n",
    "plt.scatter(X_test, y_test, label='Test Data', color='red')\n",
    "plt.xlabel('X')\n",
    "plt.ylabel('Y')\n",
    "plt.legend()\n",
    "plt.title('Neural Network Regression')\n",
    "plt.show()"
   ]
  }
 ],
 "metadata": {
  "kernelspec": {
   "display_name": "base",
   "language": "python",
   "name": "python3"
  },
  "language_info": {
   "codemirror_mode": {
    "name": "ipython",
    "version": 3
   },
   "file_extension": ".py",
   "mimetype": "text/x-python",
   "name": "python",
   "nbconvert_exporter": "python",
   "pygments_lexer": "ipython3",
   "version": "3.9.13"
  }
 },
 "nbformat": 4,
 "nbformat_minor": 2
}

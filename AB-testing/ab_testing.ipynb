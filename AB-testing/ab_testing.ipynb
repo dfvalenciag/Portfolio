{
  "cells": [
    {
      "cell_type": "markdown",
      "metadata": {
        "id": "4s1Xge_Nh17c"
      },
      "source": [
        "**A/B Testing**"
      ]
    },
    {
      "cell_type": "markdown",
      "metadata": {
        "id": "-ezzNrWVh9k5"
      },
      "source": [
        "In this notebook we will design, create and evaluate an A/B test: \n",
        "\n",
        "\n",
        "1. Design the Experiment \n",
        "2. Data Collection and ETL\n",
        "3. EDA \n",
        "4. Hypothesis Testing\n",
        "5. Analysis of Results"
      ]
    },
    {
      "cell_type": "code",
      "execution_count": 1,
      "metadata": {
        "colab": {
          "base_uri": "https://localhost:8080/"
        },
        "id": "p9UdlYmyuOJF",
        "outputId": "bc71de28-5a1c-43c2-ffd7-a6adef2bd897"
      },
      "outputs": [],
      "source": [
        "# Packages imports\n",
        "import numpy as np\n",
        "import pandas as pd\n",
        "import matplotlib as mpl\n",
        "import matplotlib.pyplot as plt\n",
        "import seaborn as sns\n",
        "import scipy.stats as stats\n",
        "import statsmodels.stats.api as sms\n",
        "\n",
        "sns.set_style('darkgrid')\n",
        "sns.set(rc={'figure.figsize':(16,6)})"
      ]
    },
    {
      "cell_type": "markdown",
      "metadata": {
        "id": "QlPmwSVziUXs"
      },
      "source": [
        "# Design of Experiment"
      ]
    },
    {
      "cell_type": "markdown",
      "metadata": {
        "id": "8gxnRUSWIBlw"
      },
      "source": [
        "Analysis of subscription data for a service such as Medium that handles annual subscriptions of 200 and is paid in a single payment."
      ]
    },
    {
      "cell_type": "markdown",
      "metadata": {
        "id": "rW9HWFEfjDMB"
      },
      "source": [
        "They have decided to redesign their website in order to get more conversions. The front-end UX/UI is ready to implement the new page layout. The goal of this redesign is to increase the number of conversions, which in this case is that users create an account.  "
      ]
    },
    {
      "cell_type": "markdown",
      "metadata": {
        "id": "MwxDG_BLxM4a"
      },
      "source": [
        "In addition, an exploratory analysis of the data has already been performed and you decided to first evaluate an aggregate effect without segmenting the groups."
      ]
    },
    {
      "cell_type": "markdown",
      "metadata": {
        "id": "nJNsj1lMkEdo"
      },
      "source": [
        "## Hypothesis test design"
      ]
    },
    {
      "cell_type": "markdown",
      "metadata": {
        "id": "m6blTf9qkLEs"
      },
      "source": [
        "Establishing the hypothesis test. Defining:  \n",
        "$p_0:= \\text{ the conversion probability of the original page.}$  \n",
        "$p:=\\text{ conversion probability of the redesigned page}$"
      ]
    },
    {
      "cell_type": "markdown",
      "metadata": {
        "id": "sxMkl16FkYxB"
      },
      "source": [
        "### Null hypothesis"
      ]
    },
    {
      "cell_type": "markdown",
      "metadata": {
        "id": "yRDAlfW_kgQH"
      },
      "source": [
        "In this case the null hypothesis $H_0$ is that the new page design does not affect the number of conversions:  \n",
        "\n",
        "> $H_0: \\ \\ \\ \\ \\ \\   p=p_0$"
      ]
    },
    {
      "cell_type": "markdown",
      "metadata": {
        "id": "agR0VC1hqJjY"
      },
      "source": [
        "### Alternative Hypothesis"
      ]
    },
    {
      "cell_type": "markdown",
      "metadata": {
        "id": "L1d5eBvDqUc2"
      },
      "source": [
        "The redesign of the page affects the probability of conversion:  \n",
        "\n",
        "> $H_1: \\ \\ \\ \\ \\ \\   p \\neq p_0$ \n",
        "   \n",
        "Note that the hypothesis is that it is different, it does not indicate whether it increased or decreased with the redesign. This means that we will use a [two-tailed test](https://en.wikipedia.org/wiki/One-_and_two-tailed_tests)  "
      ]
    },
    {
      "cell_type": "markdown",
      "metadata": {
        "id": "0CqCxi3Kq5jt"
      },
      "source": [
        "### Significance level"
      ]
    },
    {
      "cell_type": "markdown",
      "metadata": {
        "id": "eWC_F9MFq7O2"
      },
      "source": [
        "In this case, we use a significance level of $5%$:  \n",
        "> $ \\alpha=.05$  \n",
        "\n",
        "This means that our level of confidence is $95%$, since:  \n",
        "> $(1- \\alpha) = .95$"
      ]
    },
    {
      "cell_type": "markdown",
      "metadata": {
        "id": "95Dp3aJ1rZGM"
      },
      "source": [
        "## Control Groups"
      ]
    },
    {
      "cell_type": "markdown",
      "metadata": {
        "id": "bmzrBhc0rcb-"
      },
      "source": [
        "In this case the **control** group will receive the old design, and the **treatment** group will receive the new design."
      ]
    },
    {
      "cell_type": "markdown",
      "metadata": {
        "id": "Dkuw1Wl4rzkF"
      },
      "source": [
        "The front-end team must ensure that the page to be displayed to the user is **completely random**."
      ]
    },
    {
      "cell_type": "markdown",
      "metadata": {
        "id": "CRsBsH6Y86mp"
      },
      "source": [
        "## Minimal Effect"
      ]
    },
    {
      "cell_type": "markdown",
      "metadata": {
        "id": "aA_M-zVZI-MD"
      },
      "source": [
        "Since the subscriptions offered are annual, and due to internal policies, the analysis must be performed on an annual basis. "
      ]
    },
    {
      "cell_type": "markdown",
      "metadata": {
        "id": "eE9i-wGP88NL"
      },
      "source": [
        "Metrics:\n",
        "+ CPC = 5\n",
        "+ Annual Maintenance Cost of users is $Co = 100$.\n",
        "+ Annual CLTV after converting without costs is $V = 200$.\n",
        "+ CLTV with costs is = $V - C_0 = (200-100)$ \n",
        "+ The actual conversion is .12 i.e. $p_0=.12$."
      ]
    },
    {
      "cell_type": "markdown",
      "metadata": {
        "id": "SIv6vn1i_Wbm"
      },
      "source": [
        "This implies that the expected **CLTV** per user who clicks on the ad is:  \n",
        "+ $p_0 \\times (V-Co) - CPC = .12 \\times (200-100) - 5 = 7$  "
      ]
    },
    {
      "cell_type": "markdown",
      "metadata": {
        "id": "6GdsvGkVNEbH"
      },
      "source": [
        "Note that we are talking about the **Expected Value of the CLTV** not the **CLTV** as such, since we are not evaluating the effect of the redesign on user spending once they subscribe:\n",
        "+ **CTVL** = 200 - 100. This remains fixed, as it is a metric defined by the company, and is conditional on the person having already subscribed. This definition **does not include acquisition costs, only maintenance and subscription costs**. \n",
        "+ The **expected CLTV** includes the acquisition costs, it is the **CLTV** of all our potential buyers, that's why we include the acquisition costs such as the CPC, and also the probability of subscribing $p \\ \\& \\ p_0$.  \n",
        "To avoid further confusion let us define the **expected CTVL** as $E$.\n"
      ]
    },
    {
      "cell_type": "markdown",
      "metadata": {
        "id": "mUM1MYwgBCYB"
      },
      "source": [
        "Where:  \n",
        "+ $p_0 \\times (V-Co)$  is the expected sale for any user who sees the ad, hence we multiply it by $p_0$. We only sell $V$ and pay $Co$ if the user converts.\n",
        "+ CPC is the average cost per user that is redirected to the page, so you don't have to multiply it. On average the cost per click is 5, the probability of clicking is already implicit in the metric."
      ]
    },
    {
      "cell_type": "markdown",
      "metadata": {
        "id": "rDcYYKo_AJpa"
      },
      "source": [
        "Let's plot how much our **E** changed given our new $p$ conversion, not including redesign costs:\n",
        "+ Change in proportions is $\\Delta_p = p-p_0$\n",
        "+ Change in **E** without redesign costs: $\\Delta_{E}=(p-p_0) \\times (V-Co)$ \n",
        ">   $\\Delta_{E} = (\\Delta_p) \\times (200-100) = \\Delta_p*100 $  \n",
        "\n",
        "The CPC remains constant and is not included in the equation, as the redesign is of the page, not of the way in which users arrive, so it does not affect the click-through rate."
      ]
    },
    {
      "cell_type": "code",
      "execution_count": 2,
      "metadata": {
        "colab": {
          "base_uri": "https://localhost:8080/",
          "height": 412
        },
        "id": "bwfwFb_ACKbv",
        "outputId": "b69fd1c9-0f18-458d-9fd3-992b8d032b2f"
      },
      "outputs": [
        {
          "data": {
            "text/plain": [
              "<matplotlib.lines.Line2D at 0x2716d446730>"
            ]
          },
          "execution_count": 2,
          "metadata": {},
          "output_type": "execute_result"
        },
        {
          "data": {
            "image/png": "[encoded data removed]",
            "text/plain": [
              "<Figure size 1600x600 with 1 Axes>"
            ]
          },
          "metadata": {},
          "output_type": "display_data"
        }
      ],
      "source": [
        "delta = pd.Series(list(range(-50,200,1)))/100 #delta_p\n",
        "# E\n",
        "cltv = 100*delta #delta_E\n",
        "\n",
        "evaluacion = pd.DataFrame({'delta':delta, 'E':cltv})\n",
        "sns.lineplot(data=evaluacion, x='delta', y='E')\n",
        "plt.axhline(0, ls='--', linewidth=3, color='red')"
      ]
    },
    {
      "cell_type": "markdown",
      "metadata": {
        "id": "23XcxWjADkhI"
      },
      "source": [
        "Well since our model is linear, the behavior is linear. However this is the methodology to follow no matter if the model is not linear."
      ]
    },
    {
      "cell_type": "markdown",
      "metadata": {
        "id": "dHQXsNymFoNT"
      },
      "source": [
        "Now we will see how our monthly revenue would change. To do this we must include the number of users who actually view our page (regardless of whether they convert or not).\n",
        "+ Let $m$ be the number of people who click and load our page.\n",
        "$m$ is almost equivalent to the clicks we have, minus the people who leave before viewing the page and the users who enter more than us times. For now it is a good approximation."
      ]
    },
    {
      "cell_type": "markdown",
      "metadata": {
        "id": "0C0RZGqcHYsS"
      },
      "source": [
        "From analyzing the above models it appears that on average **$m$ is 95 thousand** users per month. And since it is an A/B testing and the way of redirecting potential users to the site will not change, it is a good projection."
      ]
    },
    {
      "cell_type": "markdown",
      "metadata": {
        "id": "US5R7hYXP41m"
      },
      "source": [
        "This means that since **the user is redirected to our page**:\n",
        "+ The average number of users converting monthly is: $p_0 \\times m$\n",
        "+ The average number of users that will convert under the redesign is: $p \\times m$\n",
        "+ The change in the average number of users who convert:  $(p - p_0) \\times m$"
      ]
    },
    {
      "cell_type": "markdown",
      "metadata": {
        "id": "B3N_tZOCH2EJ"
      },
      "source": [
        "Now let's calculate how **Monthly Income** would change depending on $p$. This is nothing more than:  \n",
        "+ Change in Monthly Income:  $\\Delta_{ingreso}=\\Delta_{E}*m = \\Delta_p*100 \\times m$  \n",
        "\n",
        "Note: $E$ is not divided by twelve months, as the user pays the entire subscription in one installment."
      ]
    },
    {
      "cell_type": "code",
      "execution_count": 3,
      "metadata": {
        "colab": {
          "base_uri": "https://localhost:8080/",
          "height": 423
        },
        "id": "tB65Hd7_JiIa",
        "outputId": "4c944185-a37d-42f5-ed00-4442c6d84f2e"
      },
      "outputs": [
        {
          "data": {
            "text/plain": [
              "<matplotlib.lines.Line2D at 0x27167730f70>"
            ]
          },
          "execution_count": 3,
          "metadata": {},
          "output_type": "execute_result"
        },
        {
          "data": {
            "image/png": "[encoded data removed]",
            "text/plain": [
              "<Figure size 1600x600 with 1 Axes>"
            ]
          },
          "metadata": {},
          "output_type": "display_data"
        }
      ],
      "source": [
        "delta = pd.Series(list(range(-50,200,1)))/100\n",
        "cltv = 100*delta*95000\n",
        "\n",
        "evaluacion = pd.DataFrame({'delta':delta, 'cltv':cltv})\n",
        "sns.lineplot(data=evaluacion, x='delta', y='cltv')\n",
        "plt.axhline(0, ls='--', linewidth=3, color='red')"
      ]
    },
    {
      "cell_type": "markdown",
      "metadata": {
        "id": "GLxBYbNdTxOx"
      },
      "source": [
        "Let $R$ be the cost of the redesign, and of the necessary modifications to the infrastructure. That is, the cost of the project or campaign."
      ]
    },
    {
      "cell_type": "markdown",
      "metadata": {
        "id": "N4DpHSR1Rg9s"
      },
      "source": [
        "Now let's move on to something more interesting. Let's see how much $p$ it would have to be to **cover the cost of redesigning the site in one month**. This is equivalent to finding the point where the extra revenue generated by new users equals the redesign cost. Let's call this $p$ that covers the costs in one month $p_e$ or $p$ break-even such that:  \n",
        "\n",
        "Mathematically it is equivalent to clearing $p$ from the following equation (we ignore the CPC as that variable will not be affected and is already averaged):  \n",
        "+ $R = \\Delta_E \\times m $\n",
        "+ $R = \\Delta_p*(V - C_o) \\times m $\n",
        "+ $R = (p-p_0)*(V - C_o) \\times m$  \n"
      ]
    },
    {
      "cell_type": "markdown",
      "metadata": {
        "id": "ED_r9QZkUvku"
      },
      "source": [
        "We can also see the problem at the monthly level as:\n",
        "+  The change of the expected income of our policy, **per user that enters the page**: \n",
        "> > > $\\Delta_E = p(V - C_o) - p_0(V-C_o)$\n",
        "+ The expected change of our policy, **for all users accessing the site**:  \n",
        "> > > $m \\times \\Delta_E = m \\times [p(V - C_o) - p_0(V-C_o)]$  \n",
        "\n",
        "+ This change should cover at least the $R$ cost of implementation:\n",
        "> > > $R \\leq m \\Delta_E$  \n",
        "\n",
        "+ If we want to stay the same, we change \" $\\leq$ \" by \"$=$\" and depearing.  \n",
        "Any $p$ such that:  \n",
        "> > > \"$R < m \\Delta_E =  (p - p_0)(V - C_o)m$\" makes us money. And by the time it evens out we will have covered the implementation costs $R$. \n"
      ]
    },
    {
      "cell_type": "markdown",
      "metadata": {
        "id": "ze0AgWKxTub9"
      },
      "source": [
        "The clearing is:\n",
        "> > > $p_e = \\frac{R}{100 \\times m} + p_0$  \n",
        "Substituting with the information we know is as follows:  \n",
        "> > > $p_e = \\frac{R}{100 \\times 95000} + .12$\n"
      ]
    },
    {
      "cell_type": "markdown",
      "metadata": {
        "id": "qGGUDgmZWA6q"
      },
      "source": [
        "Assuming that $R$ is 1.5 million, which would give us a $p_e$ of:\n",
        "> > > $p_e \\approx .277$"
      ]
    },
    {
      "cell_type": "markdown",
      "metadata": {
        "id": "dtOUnMk-W6Nx"
      },
      "source": [
        "So any $p > p_e$ makes us money."
      ]
    },
    {
      "cell_type": "markdown",
      "metadata": {
        "id": "ZX1TvNsiYULQ"
      },
      "source": [
        "This implies an increase of $15.7$% in conversion. This may be very high, as from previous experience it is known that the changes are very small. But there is no problem, because given the company's future plans, they are willing to invest in the redesign if the cost is covered in one year. "
      ]
    },
    {
      "cell_type": "markdown",
      "metadata": {
        "id": "4JE_0Q99XC9M"
      },
      "source": [
        "The math would be as follows:\n",
        "+ The change of the expected income of our policy, **per user that enters the page**.:\n",
        "> > > $\\Delta_E = p(V - C_o) - p_0(V-C_o)$ \n",
        "+  The expected change of our policy, **for all users accessing the site**.: \n",
        "> > >$m \\times \\Delta_E = m \\times [p(V - C_o) - p_0(V-C_o)]$\n",
        "+ The change of the expected income of our policy, **for t months**. Remember that every month $m$ users enter the site.: \n",
        "> > > $t \\times m \\times \\Delta_E = t \\times m \\times [p(V - C_o) - p_0(V-C_o)]$  \n",
        "+ This change should cover at least the $R$ cost of implementation:\n",
        "> > > $R \\leq tm \\Delta_E$  \n",
        "+ If we want to be the same, we change \"$\\leq$\" for \"$=$\" and clear.  \n",
        "Any $p$ such that \n",
        "> > >\"$R < tm \\Delta_E =  (p - p_0)(V - C_o)tm$\" makes us money. And, by the time it evens out we will have covered the implementation costs $R$.  \n"
      ]
    },
    {
      "cell_type": "markdown",
      "metadata": {
        "id": "94xfGzB5ZQEe"
      },
      "source": [
        "This would give us a new $p_e$ of: \n",
        "> > > $p_e = \\frac{R}{100 \\times m \\times t} + p_0$   \n",
        "\n",
        "Where $t$ is the maximum number of months in which the company is willing to cover the cost $R$.  \n",
        "> > > $ p_e = \\frac{R}{100 \\times 95000 \\times 12} + .12$  \n",
        "\n",
        "> > > $ p_e \\approx .133 $"
      ]
    },
    {
      "cell_type": "markdown",
      "metadata": {
        "id": "uNElnX0nWePw"
      },
      "source": [
        "The change we expect is $1.3$% Given that the result of similar changes in the past has brought an increase of plus or minus $3$% it seems a sensible idea."
      ]
    },
    {
      "cell_type": "markdown",
      "metadata": {
        "id": "EjR7y5BgcF7B"
      },
      "source": [
        "Note that strictly speaking, we could leave $p_0$ as **unknown**. **We do not know $p_0$. Well, regardless of its value, we could calculate the necessary change. $\\Delta_{p_e} = p_e - p_0$: \n",
        "> > > $ p_e - p_0 = \\frac{R}{100 \\times m \\times t} $ \n",
        "     \n",
        "> > > $ p_e - p_0 = \\frac{R}{100 \\times 95000 \\times 12}$  \n",
        "  \n",
        "> > > $p_e - p_0 \\approx .0133 $"
      ]
    },
    {
      "cell_type": "markdown",
      "metadata": {
        "id": "7MWNdRI_r8AK"
      },
      "source": [
        "## Sample Size"
      ]
    },
    {
      "cell_type": "markdown",
      "metadata": {
        "id": "9KNuMO99r-8v"
      },
      "source": [
        " Let's determine the power or potency of our analysis of our test. It depends on 3 factors:  \n",
        " > + [Statistical Power](https://es.wikipedia.org/wiki/Poder_estad%C3%ADstico) of our test:= This is defined as the probability of finding a statistically significant difference between the two groups, **given that the difference exists**. A value of $.8$ is generally used. \n",
        " > + [Significance level](https://es.wikipedia.org/wiki/Significaci%C3%B3n_estad%C3%ADstica): It is the $\\alpha$ that we previously decided and is defined as the probability of rejecting the null hypothesis given that it is true.  \n",
        " > + Effect: How big is the effect of our sample."
      ]
    },
    {
      "cell_type": "markdown",
      "metadata": {
        "id": "pxJGzHE_uUSx"
      },
      "source": [
        "### Let's calculate the sample size"
      ]
    },
    {
      "cell_type": "markdown",
      "metadata": {
        "id": "7LSR40X-u2h7"
      },
      "source": [
        "+ [sms.proportion_effectsize()](https://www.statsmodels.org/stable/generated/statsmodels.stats.proportion.proportion_effectsize.html)\n",
        "+ [sms.NormalIndPower()](https://www.statsmodels.org/stable/generated/statsmodels.stats.power.NormalIndPower.html): We use a normal because we are calculating a difference of proportions."
      ]
    },
    {
      "cell_type": "code",
      "execution_count": 4,
      "metadata": {
        "colab": {
          "base_uri": "https://localhost:8080/"
        },
        "id": "3CF1GmHEuXQA",
        "outputId": "e3d6a642-78b1-4030-9776-9af3b8a5542b"
      },
      "outputs": [
        {
          "name": "stdout",
          "output_type": "stream",
          "text": [
            "-0.03912003793092855\n",
            "10257.418429123258\n"
          ]
        }
      ],
      "source": [
        "# Calculating the effect size\n",
        "efecto = sms.proportion_effectsize(0.12, 0.133) \n",
        "print(efecto)\n",
        "\n",
        "# Let's calculate the minimum sample size needed\n",
        "n_muestra = sms.NormalIndPower().solve_power(\n",
        "    efecto, \n",
        "    power=0.8, \n",
        "    alpha=0.05 \n",
        "    )                                                  \n",
        "\n",
        "print(n_muestra)"
      ]
    },
    {
      "cell_type": "markdown",
      "metadata": {
        "id": "-wCkeA-NwoUh"
      },
      "source": [
        "Well our minimum sample size is **10258 individuals per group**."
      ]
    },
    {
      "cell_type": "markdown",
      "metadata": {
        "id": "VjonR8XSa52w"
      },
      "source": [
        "Given that the $m$ is 95000 users on average, assigning a probability of $50$% to be control or treatment would result in more than needed."
      ]
    },
    {
      "cell_type": "markdown",
      "metadata": {
        "id": "-lKn-ABWd0aU"
      },
      "source": [
        "### Experiment duration"
      ]
    },
    {
      "cell_type": "markdown",
      "metadata": {
        "id": "GK6tFZuBd6-w"
      },
      "source": [
        "Since there is no rush to evaluate the results, it is decided that the experiment will run for 3 months, so your sample size will be much larger than expected."
      ]
    },
    {
      "cell_type": "markdown",
      "metadata": {
        "id": "lwJaDumtwvdE"
      },
      "source": [
        "# ETL"
      ]
    },
    {
      "cell_type": "markdown",
      "metadata": {
        "id": "TyQcLj94w5pB"
      },
      "source": [
        "The data are obtained from [Kaggle](https://www.kaggle.com/zhangluyuan/ab-testing?select=ab_data.csv)"
      ]
    },
    {
      "cell_type": "code",
      "execution_count": 5,
      "metadata": {
        "colab": {
          "base_uri": "https://localhost:8080/",
          "height": 206
        },
        "id": "SWdFTFY6xbXd",
        "outputId": "4bb13e23-78fa-43d2-aede-f19e1fa3e163"
      },
      "outputs": [
        {
          "data": {
            "text/html": [
              "<div>\n",
              "<style scoped>\n",
              "    .dataframe tbody tr th:only-of-type {\n",
              "        vertical-align: middle;\n",
              "    }\n",
              "\n",
              "    .dataframe tbody tr th {\n",
              "        vertical-align: top;\n",
              "    }\n",
              "\n",
              "    .dataframe thead th {\n",
              "        text-align: right;\n",
              "    }\n",
              "</style>\n",
              "<table border=\"1\" class=\"dataframe\">\n",
              "  <thead>\n",
              "    <tr style=\"text-align: right;\">\n",
              "      <th></th>\n",
              "      <th>user_id</th>\n",
              "      <th>timestamp</th>\n",
              "      <th>group</th>\n",
              "      <th>landing_page</th>\n",
              "      <th>converted</th>\n",
              "    </tr>\n",
              "  </thead>\n",
              "  <tbody>\n",
              "    <tr>\n",
              "      <th>0</th>\n",
              "      <td>851104</td>\n",
              "      <td>2017-01-21 22:11:48.556739</td>\n",
              "      <td>control</td>\n",
              "      <td>old_page</td>\n",
              "      <td>0</td>\n",
              "    </tr>\n",
              "    <tr>\n",
              "      <th>1</th>\n",
              "      <td>804228</td>\n",
              "      <td>2017-01-12 08:01:45.159739</td>\n",
              "      <td>control</td>\n",
              "      <td>old_page</td>\n",
              "      <td>0</td>\n",
              "    </tr>\n",
              "    <tr>\n",
              "      <th>2</th>\n",
              "      <td>661590</td>\n",
              "      <td>2017-01-11 16:55:06.154213</td>\n",
              "      <td>treatment</td>\n",
              "      <td>new_page</td>\n",
              "      <td>0</td>\n",
              "    </tr>\n",
              "    <tr>\n",
              "      <th>3</th>\n",
              "      <td>853541</td>\n",
              "      <td>2017-01-08 18:28:03.143765</td>\n",
              "      <td>treatment</td>\n",
              "      <td>new_page</td>\n",
              "      <td>0</td>\n",
              "    </tr>\n",
              "    <tr>\n",
              "      <th>4</th>\n",
              "      <td>864975</td>\n",
              "      <td>2017-01-21 01:52:26.210827</td>\n",
              "      <td>control</td>\n",
              "      <td>old_page</td>\n",
              "      <td>1</td>\n",
              "    </tr>\n",
              "  </tbody>\n",
              "</table>\n",
              "</div>"
            ],
            "text/plain": [
              "   user_id                   timestamp      group landing_page  converted\n",
              "0   851104  2017-01-21 22:11:48.556739    control     old_page          0\n",
              "1   804228  2017-01-12 08:01:45.159739    control     old_page          0\n",
              "2   661590  2017-01-11 16:55:06.154213  treatment     new_page          0\n",
              "3   853541  2017-01-08 18:28:03.143765  treatment     new_page          0\n",
              "4   864975  2017-01-21 01:52:26.210827    control     old_page          1"
            ]
          },
          "execution_count": 5,
          "metadata": {},
          "output_type": "execute_result"
        }
      ],
      "source": [
        "ab = pd.read_csv('https://raw.githubusercontent.com/IEXE-Tec/mcda-marketing/main/ab_data.csv')\n",
        "ab.head()"
      ]
    },
    {
      "cell_type": "code",
      "execution_count": 6,
      "metadata": {
        "colab": {
          "base_uri": "https://localhost:8080/"
        },
        "id": "QhBYBKO3yZvh",
        "outputId": "57985b1e-60c7-4b03-ecb3-d97c829ce35d"
      },
      "outputs": [
        {
          "data": {
            "text/plain": [
              "(294478, 5)"
            ]
          },
          "execution_count": 6,
          "metadata": {},
          "output_type": "execute_result"
        }
      ],
      "source": [
        "ab.shape"
      ]
    },
    {
      "cell_type": "code",
      "execution_count": 7,
      "metadata": {
        "colab": {
          "base_uri": "https://localhost:8080/"
        },
        "id": "MQSjHE1VyELS",
        "outputId": "6410cd24-2727-44d8-859e-7f8e1633bf3a"
      },
      "outputs": [
        {
          "name": "stdout",
          "output_type": "stream",
          "text": [
            "<class 'pandas.core.frame.DataFrame'>\n",
            "RangeIndex: 294478 entries, 0 to 294477\n",
            "Data columns (total 5 columns):\n",
            " #   Column        Non-Null Count   Dtype \n",
            "---  ------        --------------   ----- \n",
            " 0   user_id       294478 non-null  int64 \n",
            " 1   timestamp     294478 non-null  object\n",
            " 2   group         294478 non-null  object\n",
            " 3   landing_page  294478 non-null  object\n",
            " 4   converted     294478 non-null  int64 \n",
            "dtypes: int64(2), object(3)\n",
            "memory usage: 11.2+ MB\n"
          ]
        }
      ],
      "source": [
        "ab.info()"
      ]
    },
    {
      "cell_type": "markdown",
      "metadata": {
        "id": "YiBooEQJzQVA"
      },
      "source": [
        "# EDA"
      ]
    },
    {
      "cell_type": "markdown",
      "metadata": {
        "id": "3H8UvStjzSFj"
      },
      "source": [
        "## Users"
      ]
    },
    {
      "cell_type": "markdown",
      "metadata": {
        "id": "Zacka-2K0nmq"
      },
      "source": [
        "### Users in both groups"
      ]
    },
    {
      "cell_type": "code",
      "execution_count": 8,
      "metadata": {
        "colab": {
          "base_uri": "https://localhost:8080/"
        },
        "id": "lBxw_QOPyQxP",
        "outputId": "7fa4a6e1-4c8a-4cda-8fde-719bcbc5cf45"
      },
      "outputs": [
        {
          "data": {
            "text/plain": [
              "group\n",
              "control      147202\n",
              "treatment    147276\n",
              "Name: converted, dtype: int64"
            ]
          },
          "execution_count": 8,
          "metadata": {},
          "output_type": "execute_result"
        }
      ],
      "source": [
        "ab.groupby(['group'])['converted'].count()"
      ]
    },
    {
      "cell_type": "code",
      "execution_count": 9,
      "metadata": {
        "colab": {
          "base_uri": "https://localhost:8080/"
        },
        "id": "GEaNY_81y4-o",
        "outputId": "97f52f65-e379-42b4-a958-a03527e0bad2"
      },
      "outputs": [
        {
          "data": {
            "text/plain": [
              "290584"
            ]
          },
          "execution_count": 9,
          "metadata": {},
          "output_type": "execute_result"
        }
      ],
      "source": [
        "ab['user_id'].nunique()"
      ]
    },
    {
      "cell_type": "code",
      "execution_count": 11,
      "metadata": {
        "colab": {
          "base_uri": "https://localhost:8080/"
        },
        "id": "r4bcYJu7zKF0",
        "outputId": "d3e42ec5-4596-4622-9f83-ac523d42a30b"
      },
      "outputs": [
        {
          "name": "stdout",
          "output_type": "stream",
          "text": [
            "Users with treatment: 146284\n",
            "Users in control: 146195\n"
          ]
        }
      ],
      "source": [
        "id_trat = ab[ab['group']=='treatment']['user_id']\n",
        "id_control = ab[ab['group']!='treatment']['user_id']\n",
        "print(f'Users with treatment: {id_trat.nunique()}')\n",
        "print(f'Users in control: {id_control.nunique()}')"
      ]
    },
    {
      "cell_type": "code",
      "execution_count": 12,
      "metadata": {
        "colab": {
          "base_uri": "https://localhost:8080/"
        },
        "id": "NRc0wRO3zyfq",
        "outputId": "30bbf4b8-54da-47a1-8696-2609ee57cbe2"
      },
      "outputs": [
        {
          "name": "stdout",
          "output_type": "stream",
          "text": [
            "Users in both groups: 1895\n"
          ]
        }
      ],
      "source": [
        "id_filtrado = id_trat[id_trat.isin(id_control)]\n",
        "print(f'Users in both groups: {id_filtrado.nunique()}')"
      ]
    },
    {
      "cell_type": "markdown",
      "metadata": {
        "id": "lx57OPFd0B-i"
      },
      "source": [
        "In this case there are only 1895 users in the two groups. Let's get rid of them for the moment, although in the future it could be useful to evaluate the repeated effect of the page, but at the moment there are so few that it is not worth it."
      ]
    },
    {
      "cell_type": "code",
      "execution_count": 13,
      "metadata": {
        "id": "tSr2sNyt0N88"
      },
      "outputs": [],
      "source": [
        "ab = ab[~ab['user_id'].isin(id_filtrado)]"
      ]
    },
    {
      "cell_type": "code",
      "execution_count": 14,
      "metadata": {},
      "outputs": [
        {
          "data": {
            "text/plain": [
              "288689"
            ]
          },
          "execution_count": 14,
          "metadata": {},
          "output_type": "execute_result"
        }
      ],
      "source": [
        "ab['user_id'].nunique()"
      ]
    },
    {
      "cell_type": "markdown",
      "metadata": {
        "id": "0TiKiQ-Y0p9F"
      },
      "source": [
        "### Repeated users"
      ]
    },
    {
      "cell_type": "code",
      "execution_count": 15,
      "metadata": {
        "colab": {
          "base_uri": "https://localhost:8080/"
        },
        "id": "zIq66GSj0rcj",
        "outputId": "5826755d-f20a-4cd8-f654-a60077c77d51"
      },
      "outputs": [
        {
          "name": "stdout",
          "output_type": "stream",
          "text": [
            "(290688, 5)\n",
            "288689\n",
            "Difference 1999\n"
          ]
        }
      ],
      "source": [
        "usuarios_duplicados = ab.drop_duplicates('user_id').shape[0]\n",
        "print(ab.shape)\n",
        "print(usuarios_duplicados)\n",
        "print(f\"Difference {ab.shape[0] - usuarios_duplicados}\")"
      ]
    },
    {
      "cell_type": "markdown",
      "metadata": {
        "id": "kKP2v0VO0xjN"
      },
      "source": [
        "In this case the difference is so small, and we have so much data that we can delete it or leave it."
      ]
    },
    {
      "cell_type": "code",
      "execution_count": 16,
      "metadata": {
        "colab": {
          "base_uri": "https://localhost:8080/"
        },
        "id": "GdT1jYmo1mdd",
        "outputId": "5a1db1d3-665e-49ca-a7ec-fd9f039f9a0d"
      },
      "outputs": [
        {
          "name": "stdout",
          "output_type": "stream",
          "text": [
            "(286690, 5)\n"
          ]
        }
      ],
      "source": [
        "sesiones = ab['user_id'].value_counts(ascending=False)\n",
        "ids_repetidos = sesiones[sesiones > 1].index\n",
        "ab = ab[~ab['user_id'].isin(ids_repetidos)]\n",
        "print(ab.shape)"
      ]
    },
    {
      "cell_type": "code",
      "execution_count": 17,
      "metadata": {},
      "outputs": [
        {
          "data": {
            "text/plain": [
              "Int64Index([788245, 655340, 937185, 856332, 899061, 738999, 644135, 779906,\n",
              "            900794, 634005,\n",
              "            ...\n",
              "            791592, 648354, 718068, 659019, 703229, 838889, 837102, 895945,\n",
              "            883139, 860231],\n",
              "           dtype='int64', length=1999)"
            ]
          },
          "execution_count": 17,
          "metadata": {},
          "output_type": "execute_result"
        }
      ],
      "source": [
        "ids_repetidos"
      ]
    },
    {
      "cell_type": "code",
      "execution_count": 18,
      "metadata": {
        "colab": {
          "base_uri": "https://localhost:8080/"
        },
        "id": "E3xiRvco2D5u",
        "outputId": "0f57f3f9-7397-4429-9b2e-79932cf4accf"
      },
      "outputs": [
        {
          "data": {
            "text/plain": [
              "group\n",
              "control      143293\n",
              "treatment    143397\n",
              "Name: converted, dtype: int64"
            ]
          },
          "execution_count": 18,
          "metadata": {},
          "output_type": "execute_result"
        }
      ],
      "source": [
        "ab.groupby(['group'])['converted'].count()"
      ]
    },
    {
      "cell_type": "markdown",
      "metadata": {
        "id": "iwmIORUM2GWU"
      },
      "source": [
        "Well, after cleaning the data we observed that we still have much more users than required, which is a good sign."
      ]
    },
    {
      "cell_type": "markdown",
      "metadata": {
        "id": "jgVz7p5M3uFh"
      },
      "source": [
        "## EDA results"
      ]
    },
    {
      "cell_type": "code",
      "execution_count": 19,
      "metadata": {
        "colab": {
          "base_uri": "https://localhost:8080/",
          "height": 104
        },
        "id": "2RiYwwUI34j4",
        "outputId": "6427659e-ef84-414e-88bb-8bb2d62fccf6"
      },
      "outputs": [
        {
          "data": {
            "text/html": [
              "<style type=\"text/css\">\n",
              "</style>\n",
              "<table id=\"T_29fa5\">\n",
              "  <thead>\n",
              "    <tr>\n",
              "      <th class=\"blank level0\" >&nbsp;</th>\n",
              "      <th id=\"T_29fa5_level0_col0\" class=\"col_heading level0 col0\" >conversion_rate</th>\n",
              "      <th id=\"T_29fa5_level0_col1\" class=\"col_heading level0 col1\" >std_deviation</th>\n",
              "      <th id=\"T_29fa5_level0_col2\" class=\"col_heading level0 col2\" >std_error</th>\n",
              "    </tr>\n",
              "    <tr>\n",
              "      <th class=\"index_name level0\" >group</th>\n",
              "      <th class=\"blank col0\" >&nbsp;</th>\n",
              "      <th class=\"blank col1\" >&nbsp;</th>\n",
              "      <th class=\"blank col2\" >&nbsp;</th>\n",
              "    </tr>\n",
              "  </thead>\n",
              "  <tbody>\n",
              "    <tr>\n",
              "      <th id=\"T_29fa5_level0_row0\" class=\"row_heading level0 row0\" >control</th>\n",
              "      <td id=\"T_29fa5_row0_col0\" class=\"data row0 col0\" >0.120</td>\n",
              "      <td id=\"T_29fa5_row0_col1\" class=\"data row0 col1\" >0.325</td>\n",
              "      <td id=\"T_29fa5_row0_col2\" class=\"data row0 col2\" >0.001</td>\n",
              "    </tr>\n",
              "    <tr>\n",
              "      <th id=\"T_29fa5_level0_row1\" class=\"row_heading level0 row1\" >treatment</th>\n",
              "      <td id=\"T_29fa5_row1_col0\" class=\"data row1 col0\" >0.119</td>\n",
              "      <td id=\"T_29fa5_row1_col1\" class=\"data row1 col1\" >0.323</td>\n",
              "      <td id=\"T_29fa5_row1_col2\" class=\"data row1 col2\" >0.001</td>\n",
              "    </tr>\n",
              "  </tbody>\n",
              "</table>\n"
            ],
            "text/plain": [
              "<pandas.io.formats.style.Styler at 0x2716dc92e50>"
            ]
          },
          "execution_count": 19,
          "metadata": {},
          "output_type": "execute_result"
        }
      ],
      "source": [
        "prob_conversion = ab.groupby('group')['converted']\n",
        "\n",
        "# Std of the conversion \n",
        "std_p = lambda x: np.std(x, ddof=0)             \n",
        "# Standard error\n",
        "se_p = lambda x: stats.sem(x, ddof=0)       \n",
        "\n",
        "prob_conversion = prob_conversion.agg([np.mean, std_p, se_p])\n",
        "prob_conversion.columns = ['conversion_rate', 'std_deviation', 'std_error']\n",
        "\n",
        "prob_conversion.style.format('{:.3f}')"
      ]
    },
    {
      "cell_type": "markdown",
      "metadata": {
        "id": "88FAWg_84h27"
      },
      "source": [
        "Immediately we notice that the conversions are very similar, i.e. $p$ is very close to $p_0$.  \n",
        "+ $p_0=.120$\n",
        "+ $p=.119$"
      ]
    },
    {
      "cell_type": "markdown",
      "metadata": {
        "id": "JrQFAfnN4zsq"
      },
      "source": [
        "# Hypothesis test"
      ]
    },
    {
      "cell_type": "code",
      "execution_count": 20,
      "metadata": {
        "id": "iPfY94Kp45oE"
      },
      "outputs": [],
      "source": [
        "from statsmodels.stats.proportion import proportions_ztest, proportion_confint"
      ]
    },
    {
      "cell_type": "code",
      "execution_count": 21,
      "metadata": {
        "colab": {
          "base_uri": "https://localhost:8080/"
        },
        "id": "9di_fs1S5CG4",
        "outputId": "12301e22-d9b0-4405-cf3c-367d2657982c"
      },
      "outputs": [
        {
          "data": {
            "text/plain": [
              "[143293, 143397]"
            ]
          },
          "execution_count": 21,
          "metadata": {},
          "output_type": "execute_result"
        }
      ],
      "source": [
        "# Let's calculate the users in each group\n",
        "control = ab[ab['group'] == 'control']['converted']\n",
        "tratamiento = ab[ab['group'] == 'treatment']['converted']\n",
        "n_con = control.count()\n",
        "n_trat = tratamiento.count()\n",
        "successes = [control.sum(), tratamiento.sum()]\n",
        "nobs = [n_con, n_trat]\n",
        "nobs"
      ]
    },
    {
      "cell_type": "code",
      "execution_count": 22,
      "metadata": {},
      "outputs": [
        {
          "data": {
            "text/plain": [
              "[17220, 17025]"
            ]
          },
          "execution_count": 22,
          "metadata": {},
          "output_type": "execute_result"
        }
      ],
      "source": [
        "successes"
      ]
    },
    {
      "cell_type": "markdown",
      "metadata": {
        "id": "fCsUy2OK6V_0"
      },
      "source": [
        "+ [proportions_ztest()](https://www.statsmodels.org/stable/generated/statsmodels.stats.proportion.proportions_ztest.html): Test of z proportions.\n",
        "+ [proportion_confint()](https://www.statsmodels.org/stable/generated/statsmodels.stats.proportion.proportion_confint.html): Calculating confidence intervals for our estimators $p$ and $p_0$."
      ]
    },
    {
      "cell_type": "code",
      "execution_count": 23,
      "metadata": {
        "colab": {
          "base_uri": "https://localhost:8080/"
        },
        "id": "f4m0ABDm5QyY",
        "outputId": "b2857cd9-f1e9-44c3-feba-611d6d4c727e"
      },
      "outputs": [
        {
          "name": "stdout",
          "output_type": "stream",
          "text": [
            "z statistic: 1.19\n",
            "p-value: 0.232\n",
            "Confidence interval for p_0 at 95%.: [0.118, 0.122]\n",
            "Confidence interval for p at 95%: [0.117, 0.120]\n"
          ]
        }
      ],
      "source": [
        "# Proportions test\n",
        "z_stat, pval = proportions_ztest(successes, nobs=nobs)\n",
        "(lower_con, lower_treat), (upper_con, upper_treat) = proportion_confint(successes, nobs=nobs, alpha=0.05)\n",
        "\n",
        "print(f'z statistic: {z_stat:.2f}')\n",
        "print(f'p-value: {pval:.3f}')\n",
        "print(f'Confidence interval for p_0 at 95%.: [{lower_con:.3f}, {upper_con:.3f}]')\n",
        "print(f'Confidence interval for p at 95%: [{lower_treat:.3f}, {upper_treat:.3f}]')"
      ]
    },
    {
      "cell_type": "markdown",
      "metadata": {
        "id": "zP90I0ZI6yuw"
      },
      "source": [
        "# Conclusions"
      ]
    },
    {
      "cell_type": "markdown",
      "metadata": {
        "id": "eoLBkilt74Sq"
      },
      "source": [
        "![image.png](data:image/png;base64,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)"
      ]
    },
    {
      "cell_type": "markdown",
      "metadata": {
        "id": "J44g_70G62Pm"
      },
      "source": [
        "Since our **p-value** was a terrible $.232$ far short of our $.05$ we have no evidence to support rejecting $H_0$. Recall that $H_0$ is $p=p_0$ which means that the redesign probably had no effect."
      ]
    },
    {
      "cell_type": "markdown",
      "metadata": {
        "id": "cijr_h8Q7m1N"
      },
      "source": [
        "Furthermore, looking at our confidence intervals at $95$% we can see that our desired effect of at least $15$% is not there:"
      ]
    },
    {
      "attachments": {
        "image.png": {
          "image/png": "[encoded data removed]"
        }
      },
      "cell_type": "markdown",
      "metadata": {},
      "source": [
        "![image.png](attachment:image.png)"
      ]
    },
    {
      "cell_type": "markdown",
      "metadata": {
        "id": "uC8S8eaT8QFm"
      },
      "source": [
        "Moreover, even the effect of the new page seems to be negative at best! It's OK, these results sometimes happen..."
      ]
    }
  ],
  "metadata": {
    "colab": {
      "authorship_tag": "ABX9TyP2dKtjqka1YzJMleIJdPfA",
      "collapsed_sections": [],
      "include_colab_link": true,
      "name": "04_05_ab_testing.ipynb",
      "provenance": [],
      "toc_visible": true
    },
    "kernelspec": {
      "display_name": "Python 3",
      "name": "python3"
    },
    "language_info": {
      "codemirror_mode": {
        "name": "ipython",
        "version": 3
      },
      "file_extension": ".py",
      "mimetype": "text/x-python",
      "name": "python",
      "nbconvert_exporter": "python",
      "pygments_lexer": "ipython3",
      "version": "3.9.13"
    }
  },
  "nbformat": 4,
  "nbformat_minor": 0
}

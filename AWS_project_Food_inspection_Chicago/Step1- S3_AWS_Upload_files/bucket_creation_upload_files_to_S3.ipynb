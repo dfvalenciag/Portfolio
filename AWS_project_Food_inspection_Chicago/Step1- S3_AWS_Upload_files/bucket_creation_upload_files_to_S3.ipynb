{
  "cells": [
    {
      "cell_type": "code",
      "execution_count": 1,
      "metadata": {
        "colab": {
          "base_uri": "https://localhost:8080/"
        },
        "id": "gYPQJ83_fjoC",
        "outputId": "baaea3cf-9c28-49dd-9855-9b1c55c675c5"
      },
      "outputs": [
        {
          "name": "stdout",
          "output_type": "stream",
          "text": [
            "Requirement already satisfied: boto3 in d:\\anaconda\\lib\\site-packages (1.24.28)\n",
            "Requirement already satisfied: s3transfer<0.7.0,>=0.6.0 in d:\\anaconda\\lib\\site-packages (from boto3) (0.6.0)\n",
            "Requirement already satisfied: botocore<1.28.0,>=1.27.28 in d:\\anaconda\\lib\\site-packages (from boto3) (1.27.28)\n",
            "Requirement already satisfied: jmespath<2.0.0,>=0.7.1 in d:\\anaconda\\lib\\site-packages (from boto3) (0.10.0)\n",
            "Requirement already satisfied: python-dateutil<3.0.0,>=2.1 in d:\\anaconda\\lib\\site-packages (from botocore<1.28.0,>=1.27.28->boto3) (2.8.2)\n",
            "Requirement already satisfied: urllib3<1.27,>=1.25.4 in d:\\anaconda\\lib\\site-packages (from botocore<1.28.0,>=1.27.28->boto3) (1.26.15)\n",
            "Requirement already satisfied: six>=1.5 in d:\\anaconda\\lib\\site-packages (from python-dateutil<3.0.0,>=2.1->botocore<1.28.0,>=1.27.28->boto3) (1.16.0)\n"
          ]
        },
        {
          "name": "stderr",
          "output_type": "stream",
          "text": [
            "ERROR: Could not find a version that satisfies the requirement pickle (from versions: none)\n",
            "ERROR: No matching distribution found for pickle\n",
            "ERROR: Could not find a version that satisfies the requirement yaml (from versions: none)\n",
            "ERROR: No matching distribution found for yaml\n"
          ]
        },
        {
          "name": "stdout",
          "output_type": "stream",
          "text": [
            "Collecting sodapy\n",
            "  Downloading sodapy-2.2.0-py2.py3-none-any.whl (15 kB)\n",
            "Requirement already satisfied: requests>=2.28.1 in d:\\anaconda\\lib\\site-packages (from sodapy) (2.28.1)\n",
            "Requirement already satisfied: idna<4,>=2.5 in d:\\anaconda\\lib\\site-packages (from requests>=2.28.1->sodapy) (3.4)\n",
            "Requirement already satisfied: certifi>=2017.4.17 in d:\\anaconda\\lib\\site-packages (from requests>=2.28.1->sodapy) (2022.12.7)\n",
            "Requirement already satisfied: charset-normalizer<3,>=2 in d:\\anaconda\\lib\\site-packages (from requests>=2.28.1->sodapy) (2.0.4)\n",
            "Requirement already satisfied: urllib3<1.27,>=1.21.1 in d:\\anaconda\\lib\\site-packages (from requests>=2.28.1->sodapy) (1.26.15)\n",
            "Installing collected packages: sodapy\n",
            "Successfully installed sodapy-2.2.0\n"
          ]
        }
      ],
      "source": [
        "!pip install boto3\n",
        "!pip install pickle\n",
        "!pip install yaml\n",
        "!pip install sodapy"
      ]
    },
    {
      "cell_type": "code",
      "execution_count": 1,
      "metadata": {
        "id": "rV3MMdpAfWvT"
      },
      "outputs": [],
      "source": [
        "import pandas as pd\n",
        "import numpy as np\n",
        "import matplotlib.pyplot as plt\n",
        "import seaborn as sns\n",
        "import yaml\n",
        "import pickle\n",
        "import boto3\n",
        "\n",
        "from datetime import date\n",
        "from sodapy import Socrata"
      ]
    },
    {
      "cell_type": "code",
      "execution_count": 2,
      "metadata": {
        "id": "9Z-54nM-fWvV"
      },
      "outputs": [],
      "source": [
        "with open('credentials.yaml', 'r') as f:\n",
        "    try:\n",
        "        config = yaml.safe_load(f)\n",
        "    except yaml.YAMLError as exc:\n",
        "        print(exc)\n",
        "\n",
        "token = config['api_chicago']['app_token']\n",
        "username = config['api_chicago']['username']\n",
        "password = config['api_chicago']['password']\n",
        "matricula = config['iexe']['matricula']"
      ]
    },
    {
      "cell_type": "code",
      "execution_count": 3,
      "metadata": {
        "id": "S_nDzhCIfWvW"
      },
      "outputs": [],
      "source": [
        "# code for dataset of food inspections\n",
        "chicago_dataset = \"4ijn-s7e5\""
      ]
    },
    {
      "attachments": {},
      "cell_type": "markdown",
      "metadata": {
        "id": "dQeHX0kEfWvW"
      },
      "source": [
        "### 1. get_client function"
      ]
    },
    {
      "cell_type": "code",
      "execution_count": 4,
      "metadata": {
        "id": "Kb9D2LTLfWvi"
      },
      "outputs": [],
      "source": [
        "def get_client():\n",
        "    client = Socrata(\"data.cityofchicago.org\", \n",
        "                     token,\n",
        "                     username=username,\n",
        "                     password=password)\n",
        "    \n",
        "    return client"
      ]
    },
    {
      "attachments": {},
      "cell_type": "markdown",
      "metadata": {
        "id": "PWXb51JCfWvj"
      },
      "source": [
        "### 2. Initial intake\n",
        "\n",
        "Download data from the Food Establishment Inspections API. "
      ]
    },
    {
      "cell_type": "code",
      "execution_count": 5,
      "metadata": {
        "id": "OueVaiU7fWvj"
      },
      "outputs": [],
      "source": [
        "def ingesta_inicial(chicago_dataset, client, limit):\n",
        "    datasets = client.get(chicago_dataset, limit=limit, offset=0, order='inspection_date')\n",
        "    \n",
        "    return datasets"
      ]
    },
    {
      "cell_type": "code",
      "execution_count": 6,
      "metadata": {
        "id": "qMxZ1RwyfWvk"
      },
      "outputs": [],
      "source": [
        "client = get_client()\n",
        "datasets = ingesta_inicial(chicago_dataset, client, 300000)"
      ]
    },
    {
      "cell_type": "code",
      "execution_count": 7,
      "metadata": {},
      "outputs": [
        {
          "data": {
            "text/plain": [
              "261420"
            ]
          },
          "execution_count": 7,
          "metadata": {},
          "output_type": "execute_result"
        }
      ],
      "source": [
        "len(datasets)"
      ]
    },
    {
      "cell_type": "code",
      "execution_count": 8,
      "metadata": {},
      "outputs": [
        {
          "data": {
            "text/plain": [
              "{'inspection_id': '52234',\n",
              " 'dba_name': 'Cafe 608',\n",
              " 'aka_name': 'Cafe 608',\n",
              " 'license_': '2013328',\n",
              " 'facility_type': 'Restaurant',\n",
              " 'risk': 'Risk 1 (High)',\n",
              " 'address': '608 W BARRY AVE ',\n",
              " 'city': 'CHICAGO',\n",
              " 'state': 'IL',\n",
              " 'zip': '60657',\n",
              " 'inspection_date': '2010-01-04T00:00:00.000',\n",
              " 'inspection_type': 'License Re-Inspection',\n",
              " 'results': 'Pass',\n",
              " 'latitude': '41.938006880423615',\n",
              " 'longitude': '-87.6447545707008',\n",
              " 'location': {'latitude': '41.938006880423615',\n",
              "  'longitude': '-87.6447545707008'}}"
            ]
          },
          "execution_count": 8,
          "metadata": {},
          "output_type": "execute_result"
        }
      ],
      "source": [
        "datasets[0]"
      ]
    },
    {
      "cell_type": "code",
      "execution_count": 9,
      "metadata": {},
      "outputs": [],
      "source": [
        "datasets = pd.DataFrame(datasets)"
      ]
    },
    {
      "attachments": {},
      "cell_type": "markdown",
      "metadata": {
        "id": "l_K-SycCfWvm"
      },
      "source": [
        "### 3. Initial intake storage"
      ]
    },
    {
      "cell_type": "code",
      "execution_count": 21,
      "metadata": {
        "id": "keCu1yqmfWvm"
      },
      "outputs": [],
      "source": [
        "def guardar_ingesta(bucket, bucket_path, dataset):\n",
        "    session = boto3.Session(\n",
        "        aws_access_key_id = config['s3']['aws_access_key_id'],\n",
        "        aws_secret_access_key = config['s3']['aws_secret_access_key'],\n",
        "        aws_session_token= config['s3']['aws_session_token']\n",
        "    )\n",
        "\n",
        "    s3 = session.resource('s3')\n",
        "    s3.Object(bucket, bucket_path).put(Body=dataset)"
      ]
    },
    {
      "attachments": {},
      "cell_type": "markdown",
      "metadata": {
        "id": "oiVCeUhM5H-C"
      },
      "source": [
        "### 3a. Bucket creation\n",
        "##### we create the variable with today's date"
      ]
    },
    {
      "cell_type": "code",
      "execution_count": 12,
      "metadata": {},
      "outputs": [
        {
          "name": "stdout",
          "output_type": "stream",
          "text": [
            "2023-10-16\n"
          ]
        }
      ],
      "source": [
        "TODAY = date.today()\n",
        "print(TODAY)"
      ]
    },
    {
      "cell_type": "code",
      "execution_count": 22,
      "metadata": {
        "colab": {
          "base_uri": "https://localhost:8080/"
        },
        "id": "TFWOrPayfWvn",
        "outputId": "95330b29-befe-4ea0-e0aa-e4904b823914"
      },
      "outputs": [
        {
          "name": "stdout",
          "output_type": "stream",
          "text": [
            "2023-07-06\n",
            "creando\n",
            "aplicaciones-cd-1-mcda22d008\n"
          ]
        }
      ],
      "source": [
        "if not 'bucket_creado' in locals():\n",
        "  print(\"creando\")\n",
        "  session = boto3.Session(\n",
        "    aws_access_key_id = config['s3']['aws_access_key_id'],\n",
        "    aws_secret_access_key = config['s3']['aws_secret_access_key'],\n",
        "    aws_session_token= config['s3']['aws_session_token']\n",
        "  )\n",
        "  s3 = session.resource('s3')\n",
        "  nombre_bucket = \"aplicaciones-cd-1-\" + config['iexe']['matricula']\n",
        "  print(nombre_bucket)\n",
        "  s3.create_bucket(Bucket=nombre_bucket)\n",
        "  bucket_creado = True"
      ]
    },
    {
      "cell_type": "code",
      "execution_count": 11,
      "metadata": {
        "id": "TPkrintufWvn"
      },
      "outputs": [],
      "source": [
        "pickle_data = pickle.dumps(datasets)"
      ]
    },
    {
      "cell_type": "code",
      "execution_count": 24,
      "metadata": {
        "id": "9HP9HTqyfWvn"
      },
      "outputs": [],
      "source": [
        "bucket = \"aplicaciones-cd-1-\" + config['iexe']['matricula']\n",
        "key = \"ingesta/inicial/inspecciones-historicas-\" + str(TODAY) + \".pkl\"\n",
        "\n",
        "guardar_ingesta(bucket, key, pickle_data)"
      ]
    },
    {
      "attachments": {},
      "cell_type": "markdown",
      "metadata": {
        "id": "iSGeFi7FfWvo"
      },
      "source": [
        "Save the dataset in a pickle in an S3 bucket, the file name dete ends with the day on which the ingestion was performed (obtained dynamically). "
      ]
    },
    {
      "cell_type": "code",
      "execution_count": 13,
      "metadata": {},
      "outputs": [
        {
          "name": "stdout",
          "output_type": "stream",
          "text": [
            "2023-10-16\n"
          ]
        }
      ],
      "source": [
        "TODAY = date.today()\n",
        "print(TODAY)\n",
        "key = \"inspecciones-historicas-\" + str(TODAY) + \".pkl\"\n",
        "pickle.dump(datasets, open(key,'wb')) "
      ]
    },
    {
      "attachments": {},
      "cell_type": "markdown",
      "metadata": {
        "id": "KbQWTKbofWvo"
      },
      "source": [
        "### 4. Consecutive intakes"
      ]
    },
    {
      "attachments": {},
      "cell_type": "markdown",
      "metadata": {
        "id": "CoVMjkmhfWvp"
      },
      "source": [
        "The next time you ingest data you will have to ask specifically from the date from which you have no data."
      ]
    },
    {
      "cell_type": "code",
      "execution_count": 14,
      "metadata": {
        "id": "LgCTPsRnfWvp"
      },
      "outputs": [],
      "source": [
        "def ingesta_consecutiva(chicago_dataset, client, fecha, limit):\n",
        "    new_dataset = client.get(chicago_dataset, limit=limit, where=\"inspection_date>='{}'\".format(fecha))\n",
        "    \n",
        "    return new_dataset"
      ]
    },
    {
      "cell_type": "code",
      "execution_count": 15,
      "metadata": {
        "id": "EiTcmrKAfWvp"
      },
      "outputs": [],
      "source": [
        "client = get_client()"
      ]
    },
    {
      "cell_type": "code",
      "execution_count": 16,
      "metadata": {
        "id": "ywvNJUywfWvq"
      },
      "outputs": [],
      "source": [
        "new_dataset = ingesta_consecutiva(chicago_dataset, client, '2020-11-03', 1000)"
      ]
    },
    {
      "cell_type": "code",
      "execution_count": 17,
      "metadata": {},
      "outputs": [
        {
          "data": {
            "text/plain": [
              "{'inspection_id': '2454191',\n",
              " 'dba_name': 'KIRKWOOD BAR & GRILL',\n",
              " 'aka_name': 'KIRKWOOD BAR & GRILL',\n",
              " 'license_': '1425',\n",
              " 'facility_type': 'Restaurant',\n",
              " 'risk': 'Risk 1 (High)',\n",
              " 'address': '2934-36 N SHEFFIELD AVE ',\n",
              " 'city': 'CHICAGO',\n",
              " 'state': 'IL',\n",
              " 'zip': '60657',\n",
              " 'inspection_date': '2020-11-03T00:00:00.000',\n",
              " 'inspection_type': 'Complaint',\n",
              " 'results': 'No Entry',\n",
              " 'latitude': '41.93546443073959',\n",
              " 'longitude': '-87.65410202519548',\n",
              " 'location': {'latitude': '41.93546443073959',\n",
              "  'longitude': '-87.65410202519548'}}"
            ]
          },
          "execution_count": 17,
          "metadata": {},
          "output_type": "execute_result"
        }
      ],
      "source": [
        "new_dataset[0]"
      ]
    },
    {
      "cell_type": "code",
      "execution_count": 18,
      "metadata": {},
      "outputs": [],
      "source": [
        "new_dataset = pd.DataFrame(new_dataset)"
      ]
    },
    {
      "cell_type": "code",
      "execution_count": 20,
      "metadata": {},
      "outputs": [
        {
          "data": {
            "text/plain": [
              "1000"
            ]
          },
          "execution_count": 20,
          "metadata": {},
          "output_type": "execute_result"
        }
      ],
      "source": [
        "len(new_dataset)"
      ]
    },
    {
      "attachments": {},
      "cell_type": "markdown",
      "metadata": {
        "id": "zEm4vGCZfWvr"
      },
      "source": [
        "### 5. Storage of consecutive intakes"
      ]
    },
    {
      "cell_type": "code",
      "execution_count": 21,
      "metadata": {
        "id": "2wKydjBAfWvr"
      },
      "outputs": [],
      "source": [
        "pickled_new_data = pickle.dumps(new_dataset)"
      ]
    },
    {
      "cell_type": "code",
      "execution_count": 31,
      "metadata": {
        "id": "XrwuTpVBfWvr"
      },
      "outputs": [],
      "source": [
        "bucket = \"aplicaciones-cd-1-\" + config['iexe']['matricula']\n",
        "key = \"ingesta/consecutiva/inspecciones-consecutivas-\" + str(TODAY) + \".pkl\"\n",
        "\n",
        "guardar_ingesta(bucket, key, pickled_new_data)"
      ]
    },
    {
      "cell_type": "code",
      "execution_count": 22,
      "metadata": {
        "id": "lXcH-W9v38kU"
      },
      "outputs": [],
      "source": [
        "key = \"inspecciones-consecutivas-\" + str(TODAY) + \".pkl\"\n",
        "pickle.dump(new_dataset, open(key,'wb')) "
      ]
    },
    {
      "cell_type": "code",
      "execution_count": null,
      "metadata": {},
      "outputs": [],
      "source": []
    }
  ],
  "metadata": {
    "colab": {
      "provenance": []
    },
    "kernelspec": {
      "display_name": "base",
      "language": "python",
      "name": "python3"
    },
    "language_info": {
      "codemirror_mode": {
        "name": "ipython",
        "version": 3
      },
      "file_extension": ".py",
      "mimetype": "text/x-python",
      "name": "python",
      "nbconvert_exporter": "python",
      "pygments_lexer": "ipython3",
      "version": "3.9.13"
    }
  },
  "nbformat": 4,
  "nbformat_minor": 0
}

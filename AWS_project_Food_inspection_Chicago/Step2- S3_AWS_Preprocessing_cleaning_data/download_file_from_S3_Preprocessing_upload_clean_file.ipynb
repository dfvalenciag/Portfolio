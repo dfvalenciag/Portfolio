{
 "cells": [
  {
   "cell_type": "code",
   "execution_count": 1,
   "metadata": {},
   "outputs": [],
   "source": [
    "import pandas as pd\n",
    "import boto3\n",
    "import pickle\n",
    "import yaml\n",
    "import joblib"
   ]
  },
  {
   "cell_type": "markdown",
   "metadata": {},
   "source": [
    "## 1. Function cargar_datos_s3\n",
    "It receives as parameters the S3 bucket and the path where the file with the inspection data we want to check is located.\n",
    "\n",
    "To know which file to download, the list_objects_v2 function of boto3 is used to identify the name of the stored pkl."
   ]
  },
  {
   "cell_type": "code",
   "execution_count": 6,
   "metadata": {},
   "outputs": [],
   "source": [
    "with open('credentials.yaml', 'r') as file:\n",
    "    try:\n",
    "        config = yaml.safe_load(file)\n",
    "    except yaml.YAMLError as exc:\n",
    "        print(exc)\n",
    "\n",
    "bucket = 'aplicaciones-cd-1-' + config['iexe']['matricula']\n",
    "\n",
    "def cargar_datos_s3(bucket):\n",
    "\n",
    "    session = boto3.Session(\n",
    "        aws_access_key_id = config['s3']['aws_access_key_id'],\n",
    "        aws_secret_access_key = config['s3']['aws_secret_access_key'],\n",
    "        aws_session_token = config['s3']['aws_session_token']\n",
    "    )    \n",
    "    s3 = session.client('s3')\n",
    "    key = s3.list_objects_v2(Bucket=bucket, Prefix=\"ingesta/inicial/\")['Contents'][0]['Key']\n",
    "    print(key)\n",
    "    s3 = session.resource('s3')\n",
    "    obj = s3.Object(bucket, key).get()['Body'].read()\n",
    "    return obj\n"
   ]
  },
  {
   "cell_type": "code",
   "execution_count": 7,
   "metadata": {},
   "outputs": [
    {
     "name": "stdout",
     "output_type": "stream",
     "text": [
      "ingesta/inicial/inspecciones-historicas-2023-07-06.pkl\n"
     ]
    }
   ],
   "source": [
    "obj = cargar_datos_s3(bucket)"
   ]
  },
  {
   "cell_type": "markdown",
   "metadata": {},
   "source": [
    "### Review the files that are in the bucket and save the path in key"
   ]
  },
  {
   "cell_type": "code",
   "execution_count": 48,
   "metadata": {},
   "outputs": [
    {
     "name": "stdout",
     "output_type": "stream",
     "text": [
      "ingesta/inicial/inspecciones-historicas-2023-07-06.pkl\n"
     ]
    }
   ],
   "source": [
    "session = boto3.Session(\n",
    "        aws_access_key_id = config['s3']['aws_access_key_id'],\n",
    "        aws_secret_access_key = config['s3']['aws_secret_access_key'],\n",
    "        aws_session_token = config['s3']['aws_session_token']\n",
    "    )    \n",
    "s3 = session.client('s3')\n",
    "key = s3.list_objects_v2(Bucket=bucket, Prefix=\"ingesta/inicial/\")['Contents'][1]['Key']\n",
    "print(key)"
   ]
  },
  {
   "cell_type": "markdown",
   "metadata": {},
   "source": [
    "## 2. Function transform_ing_ingesta\n",
    "Receives as parameter the data downloaded from the S3 bucket.\n",
    "\n",
    "Returns a data frame containing the records of the historical inspections that have been performed on food establishments in Chicago."
   ]
  },
  {
   "cell_type": "code",
   "execution_count": 8,
   "metadata": {},
   "outputs": [],
   "source": [
    "def transformar_ingesta(obj):\n",
    "    df_load = pickle.loads(obj)\n",
    "    return df_load"
   ]
  },
  {
   "cell_type": "code",
   "execution_count": 9,
   "metadata": {},
   "outputs": [],
   "source": [
    "df = transformar_ingesta(obj)\n"
   ]
  },
  {
   "cell_type": "code",
   "execution_count": 10,
   "metadata": {},
   "outputs": [],
   "source": [
    "df = pd.DataFrame(df)"
   ]
  },
  {
   "cell_type": "code",
   "execution_count": 11,
   "metadata": {},
   "outputs": [
    {
     "data": {
      "text/html": [
       "<div>\n",
       "<style scoped>\n",
       "    .dataframe tbody tr th:only-of-type {\n",
       "        vertical-align: middle;\n",
       "    }\n",
       "\n",
       "    .dataframe tbody tr th {\n",
       "        vertical-align: top;\n",
       "    }\n",
       "\n",
       "    .dataframe thead th {\n",
       "        text-align: right;\n",
       "    }\n",
       "</style>\n",
       "<table border=\"1\" class=\"dataframe\">\n",
       "  <thead>\n",
       "    <tr style=\"text-align: right;\">\n",
       "      <th></th>\n",
       "      <th>inspection_id</th>\n",
       "      <th>dba_name</th>\n",
       "      <th>aka_name</th>\n",
       "      <th>license_</th>\n",
       "      <th>facility_type</th>\n",
       "      <th>risk</th>\n",
       "      <th>address</th>\n",
       "      <th>city</th>\n",
       "      <th>state</th>\n",
       "      <th>zip</th>\n",
       "      <th>inspection_date</th>\n",
       "      <th>inspection_type</th>\n",
       "      <th>results</th>\n",
       "      <th>latitude</th>\n",
       "      <th>longitude</th>\n",
       "      <th>location</th>\n",
       "      <th>violations</th>\n",
       "    </tr>\n",
       "  </thead>\n",
       "  <tbody>\n",
       "    <tr>\n",
       "      <th>0</th>\n",
       "      <td>67732</td>\n",
       "      <td>WOLCOTT'S</td>\n",
       "      <td>TROQUET</td>\n",
       "      <td>1992039</td>\n",
       "      <td>Restaurant</td>\n",
       "      <td>Risk 1 (High)</td>\n",
       "      <td>1834 W MONTROSE AVE</td>\n",
       "      <td>CHICAGO</td>\n",
       "      <td>IL</td>\n",
       "      <td>60613</td>\n",
       "      <td>2010-01-04T00:00:00.000</td>\n",
       "      <td>License Re-Inspection</td>\n",
       "      <td>Pass</td>\n",
       "      <td>41.961605669949854</td>\n",
       "      <td>-87.67596676683779</td>\n",
       "      <td>{'latitude': '41.961605669949854', 'longitude'...</td>\n",
       "      <td>NaN</td>\n",
       "    </tr>\n",
       "    <tr>\n",
       "      <th>1</th>\n",
       "      <td>67757</td>\n",
       "      <td>DUNKIN DONUTS/BASKIN-ROBBINS</td>\n",
       "      <td>DUNKIN DONUTS/BASKIN-ROBBINS</td>\n",
       "      <td>1380279</td>\n",
       "      <td>Restaurant</td>\n",
       "      <td>Risk 2 (Medium)</td>\n",
       "      <td>100 W RANDOLPH ST</td>\n",
       "      <td>CHICAGO</td>\n",
       "      <td>IL</td>\n",
       "      <td>60601</td>\n",
       "      <td>2010-01-04T00:00:00.000</td>\n",
       "      <td>Tag Removal</td>\n",
       "      <td>Pass</td>\n",
       "      <td>41.88458626715456</td>\n",
       "      <td>-87.63101044588599</td>\n",
       "      <td>{'latitude': '41.88458626715456', 'longitude':...</td>\n",
       "      <td>NaN</td>\n",
       "    </tr>\n",
       "    <tr>\n",
       "      <th>2</th>\n",
       "      <td>52234</td>\n",
       "      <td>Cafe 608</td>\n",
       "      <td>Cafe 608</td>\n",
       "      <td>2013328</td>\n",
       "      <td>Restaurant</td>\n",
       "      <td>Risk 1 (High)</td>\n",
       "      <td>608 W BARRY AVE</td>\n",
       "      <td>CHICAGO</td>\n",
       "      <td>IL</td>\n",
       "      <td>60657</td>\n",
       "      <td>2010-01-04T00:00:00.000</td>\n",
       "      <td>License Re-Inspection</td>\n",
       "      <td>Pass</td>\n",
       "      <td>41.938006880423615</td>\n",
       "      <td>-87.6447545707008</td>\n",
       "      <td>{'latitude': '41.938006880423615', 'longitude'...</td>\n",
       "      <td>NaN</td>\n",
       "    </tr>\n",
       "    <tr>\n",
       "      <th>3</th>\n",
       "      <td>70269</td>\n",
       "      <td>mr.daniel's</td>\n",
       "      <td>mr.daniel's</td>\n",
       "      <td>1899292</td>\n",
       "      <td>Restaurant</td>\n",
       "      <td>Risk 1 (High)</td>\n",
       "      <td>5645 W BELMONT AVE</td>\n",
       "      <td>CHICAGO</td>\n",
       "      <td>IL</td>\n",
       "      <td>60634</td>\n",
       "      <td>2010-01-04T00:00:00.000</td>\n",
       "      <td>License Re-Inspection</td>\n",
       "      <td>Pass</td>\n",
       "      <td>41.93844282365204</td>\n",
       "      <td>-87.76831838068422</td>\n",
       "      <td>{'latitude': '41.93844282365204', 'longitude':...</td>\n",
       "      <td>NaN</td>\n",
       "    </tr>\n",
       "    <tr>\n",
       "      <th>4</th>\n",
       "      <td>67738</td>\n",
       "      <td>MICHAEL'S ON MAIN CAFE</td>\n",
       "      <td>MICHAEL'S ON MAIN CAFE</td>\n",
       "      <td>2008948</td>\n",
       "      <td>Restaurant</td>\n",
       "      <td>Risk 1 (High)</td>\n",
       "      <td>8750 W BRYN WAWR AVE</td>\n",
       "      <td>CHICAGO</td>\n",
       "      <td>IL</td>\n",
       "      <td>60631</td>\n",
       "      <td>2010-01-04T00:00:00.000</td>\n",
       "      <td>License</td>\n",
       "      <td>Fail</td>\n",
       "      <td>NaN</td>\n",
       "      <td>NaN</td>\n",
       "      <td>NaN</td>\n",
       "      <td>18. NO EVIDENCE OF RODENT OR INSECT OUTER OPEN...</td>\n",
       "    </tr>\n",
       "  </tbody>\n",
       "</table>\n",
       "</div>"
      ],
      "text/plain": [
       "  inspection_id                      dba_name                      aka_name  \\\n",
       "0         67732                     WOLCOTT'S                       TROQUET   \n",
       "1         67757  DUNKIN DONUTS/BASKIN-ROBBINS  DUNKIN DONUTS/BASKIN-ROBBINS   \n",
       "2         52234                      Cafe 608                      Cafe 608   \n",
       "3         70269                   mr.daniel's                   mr.daniel's   \n",
       "4         67738        MICHAEL'S ON MAIN CAFE        MICHAEL'S ON MAIN CAFE   \n",
       "\n",
       "  license_ facility_type             risk                address     city  \\\n",
       "0  1992039    Restaurant    Risk 1 (High)   1834 W MONTROSE AVE   CHICAGO   \n",
       "1  1380279    Restaurant  Risk 2 (Medium)     100 W RANDOLPH ST   CHICAGO   \n",
       "2  2013328    Restaurant    Risk 1 (High)       608 W BARRY AVE   CHICAGO   \n",
       "3  1899292    Restaurant    Risk 1 (High)    5645 W BELMONT AVE   CHICAGO   \n",
       "4  2008948    Restaurant    Risk 1 (High)  8750 W BRYN WAWR AVE   CHICAGO   \n",
       "\n",
       "  state    zip          inspection_date        inspection_type results  \\\n",
       "0    IL  60613  2010-01-04T00:00:00.000  License Re-Inspection    Pass   \n",
       "1    IL  60601  2010-01-04T00:00:00.000            Tag Removal    Pass   \n",
       "2    IL  60657  2010-01-04T00:00:00.000  License Re-Inspection    Pass   \n",
       "3    IL  60634  2010-01-04T00:00:00.000  License Re-Inspection    Pass   \n",
       "4    IL  60631  2010-01-04T00:00:00.000                License    Fail   \n",
       "\n",
       "             latitude           longitude  \\\n",
       "0  41.961605669949854  -87.67596676683779   \n",
       "1   41.88458626715456  -87.63101044588599   \n",
       "2  41.938006880423615   -87.6447545707008   \n",
       "3   41.93844282365204  -87.76831838068422   \n",
       "4                 NaN                 NaN   \n",
       "\n",
       "                                            location  \\\n",
       "0  {'latitude': '41.961605669949854', 'longitude'...   \n",
       "1  {'latitude': '41.88458626715456', 'longitude':...   \n",
       "2  {'latitude': '41.938006880423615', 'longitude'...   \n",
       "3  {'latitude': '41.93844282365204', 'longitude':...   \n",
       "4                                                NaN   \n",
       "\n",
       "                                          violations  \n",
       "0                                                NaN  \n",
       "1                                                NaN  \n",
       "2                                                NaN  \n",
       "3                                                NaN  \n",
       "4  18. NO EVIDENCE OF RODENT OR INSECT OUTER OPEN...  "
      ]
     },
     "execution_count": 11,
     "metadata": {},
     "output_type": "execute_result"
    }
   ],
   "source": [
    "df.head()"
   ]
  },
  {
   "cell_type": "code",
   "execution_count": 3,
   "metadata": {},
   "outputs": [
    {
     "data": {
      "text/plain": [
       "(261420, 17)"
      ]
     },
     "execution_count": 3,
     "metadata": {},
     "output_type": "execute_result"
    }
   ],
   "source": [
    "df.shape"
   ]
  },
  {
   "cell_type": "markdown",
   "metadata": {},
   "source": [
    "## 3. Function faltantes\n",
    "Prints the missing values for each variable we have in the data set from inspecciones."
   ]
  },
  {
   "cell_type": "code",
   "execution_count": 4,
   "metadata": {},
   "outputs": [],
   "source": [
    "def faltantes(df):\n",
    "    missing_data = df.isnull().sum().to_frame()\n",
    "    missing_data.rename(columns={0: \"Datos faltantes\"}, inplace = True)\n",
    "    print('Nombre variable', 'Datos faltantes')\n",
    "    for index, row in missing_data.iterrows():\n",
    "        print(index, row[0])\n"
   ]
  },
  {
   "cell_type": "code",
   "execution_count": 5,
   "metadata": {},
   "outputs": [
    {
     "name": "stdout",
     "output_type": "stream",
     "text": [
      "Nombre variable Datos faltantes\n",
      "inspection_id 0\n",
      "dba_name 0\n",
      "aka_name 2487\n",
      "license_ 8\n",
      "facility_type 5121\n",
      "risk 81\n",
      "address 0\n",
      "city 188\n",
      "state 58\n",
      "zip 86\n",
      "inspection_date 0\n",
      "inspection_type 1\n",
      "results 0\n",
      "latitude 897\n",
      "longitude 897\n",
      "location 897\n",
      "violations 71393\n"
     ]
    }
   ],
   "source": [
    "faltantes(df)"
   ]
  },
  {
   "cell_type": "markdown",
   "metadata": {},
   "source": [
    "## 4. Function elimina_faltantes_latitud_longitud\n",
    "Deletes records that have null or empty values in the latitude or longitude columns. It receives as parameters the list of columns to be deleted because they are missing and the data frame to which they belong.\n",
    "\n",
    "Returns the data frame without the observations that were null."
   ]
  },
  {
   "cell_type": "code",
   "execution_count": 6,
   "metadata": {},
   "outputs": [],
   "source": [
    "def elimina_faltantes_latitud_longitud(lista_a_eliminar, df):    \n",
    "    for i in lista_a_eliminar:\n",
    "        df.dropna(subset = [i], inplace=True)       \n",
    "    return df\n"
   ]
  },
  {
   "cell_type": "code",
   "execution_count": 7,
   "metadata": {},
   "outputs": [],
   "source": [
    "lista = ['latitude', 'longitude']\n",
    "df = elimina_faltantes_latitud_longitud(lista, df)"
   ]
  },
  {
   "cell_type": "code",
   "execution_count": 8,
   "metadata": {},
   "outputs": [
    {
     "data": {
      "text/plain": [
       "(260523, 17)"
      ]
     },
     "execution_count": 8,
     "metadata": {},
     "output_type": "execute_result"
    }
   ],
   "source": [
    "df.shape"
   ]
  },
  {
   "cell_type": "code",
   "execution_count": 9,
   "metadata": {},
   "outputs": [
    {
     "name": "stdout",
     "output_type": "stream",
     "text": [
      "Nombre variable Datos faltantes\n",
      "inspection_id 0\n",
      "dba_name 0\n",
      "aka_name 2475\n",
      "license_ 8\n",
      "facility_type 5106\n",
      "risk 79\n",
      "address 0\n",
      "city 184\n",
      "state 58\n",
      "zip 82\n",
      "inspection_date 0\n",
      "inspection_type 1\n",
      "results 0\n",
      "latitude 0\n",
      "longitude 0\n",
      "location 0\n",
      "violations 71151\n"
     ]
    }
   ],
   "source": [
    "faltantes(df)"
   ]
  },
  {
   "cell_type": "markdown",
   "metadata": {},
   "source": [
    "## 5. Function imputar_faltantes\n",
    "It receives as parameters the column to be imputed, the value to be imputed in case of missing data and the data frame to which the column to be imputed belongs.\n",
    "\n",
    "It returns the data frame with the imputed data.\n",
    "\n",
    "The following columns are imputed: license_, zip, state, facility_type, risk. The imputation will be performed using the values of the mode for each of the columns."
   ]
  },
  {
   "cell_type": "code",
   "execution_count": 10,
   "metadata": {},
   "outputs": [],
   "source": [
    "def imputar_faltantes(col, valor_a_imputar, df):\n",
    "    for i, j in enumerate(col):\n",
    "        df[j].fillna(valor_a_imputar[i], inplace = True)\n",
    "    return df"
   ]
  },
  {
   "cell_type": "code",
   "execution_count": 11,
   "metadata": {},
   "outputs": [],
   "source": [
    "columna = [\"license_\",\"zip\",\"facility_type\",\"risk\"]\n",
    "moda = []\n",
    "for j in columna:\n",
    "    moda.append(df[j].mode()[0])\n",
    "df = imputar_faltantes(columna, moda, df)"
   ]
  },
  {
   "cell_type": "code",
   "execution_count": 12,
   "metadata": {},
   "outputs": [
    {
     "name": "stdout",
     "output_type": "stream",
     "text": [
      "Nombre variable Datos faltantes\n",
      "inspection_id 0\n",
      "dba_name 0\n",
      "aka_name 2475\n",
      "license_ 0\n",
      "facility_type 0\n",
      "risk 0\n",
      "address 0\n",
      "city 184\n",
      "state 58\n",
      "zip 0\n",
      "inspection_date 0\n",
      "inspection_type 1\n",
      "results 0\n",
      "latitude 0\n",
      "longitude 0\n",
      "location 0\n",
      "violations 71151\n"
     ]
    }
   ],
   "source": [
    "faltantes(df)"
   ]
  },
  {
   "cell_type": "markdown",
   "metadata": {},
   "source": [
    "## 6. Function transformar_enteros\n",
    "Receives as parameters a list of variables to be transformed to integer values and the data frame to which they belong.\n",
    "\n",
    "It returns the data frame with the transformed columns.\n",
    "\n",
    "The variables to transform to integer values are: inspection_id."
   ]
  },
  {
   "cell_type": "code",
   "execution_count": 13,
   "metadata": {},
   "outputs": [],
   "source": [
    "def transformar_enteros(vbles_a_transformar, df):\n",
    "    for i in vbles_a_transformar:\n",
    "        df[i] = df[i].apply(lambda x: int(x))\n",
    "    return df"
   ]
  },
  {
   "cell_type": "code",
   "execution_count": 14,
   "metadata": {},
   "outputs": [],
   "source": [
    "columnas = ['inspection_id']\n",
    "df = transformar_enteros(columnas, df)"
   ]
  },
  {
   "cell_type": "code",
   "execution_count": 15,
   "metadata": {},
   "outputs": [
    {
     "data": {
      "text/plain": [
       "inspection_id       int64\n",
       "dba_name           object\n",
       "aka_name           object\n",
       "license_           object\n",
       "facility_type      object\n",
       "risk               object\n",
       "address            object\n",
       "city               object\n",
       "state              object\n",
       "zip                object\n",
       "inspection_date    object\n",
       "inspection_type    object\n",
       "results            object\n",
       "latitude           object\n",
       "longitude          object\n",
       "location           object\n",
       "violations         object\n",
       "dtype: object"
      ]
     },
     "execution_count": 15,
     "metadata": {},
     "output_type": "execute_result"
    }
   ],
   "source": [
    "df.dtypes"
   ]
  },
  {
   "cell_type": "markdown",
   "metadata": {},
   "source": [
    "## 7. Function transformar_flotantes\n",
    "Receives as parameters a list of variables to be transformed to floating values and the data frame to which they belong.\n",
    "\n",
    "Returns the data frame with the transformed columns.\n",
    "\n",
    "The variables to transform to floating values are: latitude, longitude."
   ]
  },
  {
   "cell_type": "code",
   "execution_count": 16,
   "metadata": {},
   "outputs": [],
   "source": [
    "def transformar_flotantes(vbles_a_transformar, df):\n",
    "    for i in vbles_a_transformar:\n",
    "        df[i] = df[i].apply(lambda x: float(x))\n",
    "    return df"
   ]
  },
  {
   "cell_type": "code",
   "execution_count": 17,
   "metadata": {},
   "outputs": [],
   "source": [
    "columnas = ['latitude', 'longitude']\n",
    "df = transformar_flotantes(columnas, df)"
   ]
  },
  {
   "cell_type": "code",
   "execution_count": 18,
   "metadata": {},
   "outputs": [
    {
     "data": {
      "text/plain": [
       "inspection_id        int64\n",
       "dba_name            object\n",
       "aka_name            object\n",
       "license_            object\n",
       "facility_type       object\n",
       "risk                object\n",
       "address             object\n",
       "city                object\n",
       "state               object\n",
       "zip                 object\n",
       "inspection_date     object\n",
       "inspection_type     object\n",
       "results             object\n",
       "latitude           float64\n",
       "longitude          float64\n",
       "location            object\n",
       "violations          object\n",
       "dtype: object"
      ]
     },
     "execution_count": 18,
     "metadata": {},
     "output_type": "execute_result"
    }
   ],
   "source": [
    "df.dtypes"
   ]
  },
  {
   "cell_type": "markdown",
   "metadata": {},
   "source": [
    "## 8. Function transformar_fechas\n",
    "Receives as parameter a list of variables that need to be converted to dates.\n",
    "\n",
    "Returns the data frame with the transformed columns.\n",
    "\n",
    "The variables to be converted to dates are: inspection_date."
   ]
  },
  {
   "cell_type": "code",
   "execution_count": 19,
   "metadata": {},
   "outputs": [],
   "source": [
    "def transformar_fechas(vbles_a_fechas, df):\n",
    "    for i in vbles_a_fechas:\n",
    "        df[i] = pd.to_datetime(df[i])\n",
    "    return df"
   ]
  },
  {
   "cell_type": "code",
   "execution_count": 20,
   "metadata": {},
   "outputs": [],
   "source": [
    "columnas = ['inspection_date']\n",
    "df = transformar_fechas(columnas, df)"
   ]
  },
  {
   "cell_type": "code",
   "execution_count": 21,
   "metadata": {},
   "outputs": [
    {
     "data": {
      "text/plain": [
       "inspection_id               int64\n",
       "dba_name                   object\n",
       "aka_name                   object\n",
       "license_                   object\n",
       "facility_type              object\n",
       "risk                       object\n",
       "address                    object\n",
       "city                       object\n",
       "state                      object\n",
       "zip                        object\n",
       "inspection_date    datetime64[ns]\n",
       "inspection_type            object\n",
       "results                    object\n",
       "latitude                  float64\n",
       "longitude                 float64\n",
       "location                   object\n",
       "violations                 object\n",
       "dtype: object"
      ]
     },
     "execution_count": 21,
     "metadata": {},
     "output_type": "execute_result"
    }
   ],
   "source": [
    "df.dtypes"
   ]
  },
  {
   "cell_type": "markdown",
   "metadata": {},
   "source": [
    "## 9. Function data_profiling_string\n",
    "It receives as parameters a list of categorical variables to be data profiled, and the data frame to which they belong.\n",
    "\n",
    "The data profiling to be performed for each column consists of obtaining the number of different values for each variable, the percentage of unique values and the mode.\n",
    "\n",
    "It returns a data frame with these metrics for each categorical variable."
   ]
  },
  {
   "cell_type": "code",
   "execution_count": 22,
   "metadata": {},
   "outputs": [],
   "source": [
    "def data_profiling_string(vbles_categoricas, df):\n",
    "    cantidad_valores_diferentes, porcentaje_valores_unicos, moda = [], [], []\n",
    "    for i in vbles_categoricas:\n",
    "        cantidad_valores_diferentes.append(df[i].nunique())\n",
    "        porcentaje_valores_unicos.append(df[i].nunique()*100/df[i].shape[0])\n",
    "        moda.append(df[i].mode()[0])\n",
    "    df2 = pd.DataFrame({'cantidad_valores_diferentes': cantidad_valores_diferentes,\\\n",
    "                        'porcentaje_valores_unicos':porcentaje_valores_unicos, 'moda': moda})\n",
    "    df2 = df2.T\n",
    "    for index, j in enumerate(vbles_categoricas):\n",
    "        df2.rename(columns={index: j}, inplace = True)\n",
    "    return df2"
   ]
  },
  {
   "cell_type": "code",
   "execution_count": 23,
   "metadata": {},
   "outputs": [],
   "source": [
    "vbles_categoricas = ['risk', 'results']\n",
    "df_profiling_categoricas = data_profiling_string(vbles_categoricas, df)"
   ]
  },
  {
   "cell_type": "code",
   "execution_count": 24,
   "metadata": {},
   "outputs": [
    {
     "data": {
      "text/html": [
       "<div>\n",
       "<style scoped>\n",
       "    .dataframe tbody tr th:only-of-type {\n",
       "        vertical-align: middle;\n",
       "    }\n",
       "\n",
       "    .dataframe tbody tr th {\n",
       "        vertical-align: top;\n",
       "    }\n",
       "\n",
       "    .dataframe thead th {\n",
       "        text-align: right;\n",
       "    }\n",
       "</style>\n",
       "<table border=\"1\" class=\"dataframe\">\n",
       "  <thead>\n",
       "    <tr style=\"text-align: right;\">\n",
       "      <th></th>\n",
       "      <th>risk</th>\n",
       "      <th>results</th>\n",
       "    </tr>\n",
       "  </thead>\n",
       "  <tbody>\n",
       "    <tr>\n",
       "      <th>cantidad_valores_diferentes</th>\n",
       "      <td>4</td>\n",
       "      <td>7</td>\n",
       "    </tr>\n",
       "    <tr>\n",
       "      <th>porcentaje_valores_unicos</th>\n",
       "      <td>0.001535</td>\n",
       "      <td>0.002687</td>\n",
       "    </tr>\n",
       "    <tr>\n",
       "      <th>moda</th>\n",
       "      <td>Risk 1 (High)</td>\n",
       "      <td>Pass</td>\n",
       "    </tr>\n",
       "  </tbody>\n",
       "</table>\n",
       "</div>"
      ],
      "text/plain": [
       "                                      risk   results\n",
       "cantidad_valores_diferentes              4         7\n",
       "porcentaje_valores_unicos         0.001535  0.002687\n",
       "moda                         Risk 1 (High)      Pass"
      ]
     },
     "execution_count": 24,
     "metadata": {},
     "output_type": "execute_result"
    }
   ],
   "source": [
    "df_profiling_categoricas"
   ]
  },
  {
   "cell_type": "markdown",
   "metadata": {},
   "source": [
    "## 10. Function data_profiling_fechas\n",
    "Receives as parameter a list of date variables to which the following statistics will be obtained: Number of different values for each variable, <b>mode</b>, minimum date, maximum date, number of different years, number of different total days (subtraction of datetimes from pandas is used).\n",
    "\n",
    "Returns a data frame with these metrics per date variable."
   ]
  },
  {
   "cell_type": "code",
   "execution_count": 25,
   "metadata": {},
   "outputs": [],
   "source": [
    "def data_profiling_fechas(vbles_fecha, df):\n",
    "    cantidad_valores_diferentes, moda, fecha_min, fecha_max, \\\n",
    "        anos_diferentes, dias_totales_diferentes = [],[],[],[],[],[]\n",
    "    for i in vbles_fecha:\n",
    "        cantidad_valores_diferentes.append(df[i].nunique())\n",
    "        moda.append(df[i].mode())\n",
    "        fecha_min.append(df[i].min())\n",
    "        fecha_max.append(df[i].max())\n",
    "        anos_diferentes.append(pd.DatetimeIndex(df[i]).year.nunique())\n",
    "        dias_totales_diferentes.append(df[i].max()-df[i].min())\n",
    "\n",
    "    df2 = pd.DataFrame({'únicos': cantidad_valores_diferentes, 'moda': moda,'fecha minima':fecha_min, \\\n",
    "                        'fecha máxima':fecha_max, '# años diferentes':anos_diferentes,\\\n",
    "                        'dias totales diferentes': dias_totales_diferentes})\n",
    "    df2 = df2.T\n",
    "    for index, j in enumerate(vbles_fecha):\n",
    "        df2.rename(columns={index: j}, inplace = True)\n",
    "    return df2"
   ]
  },
  {
   "cell_type": "code",
   "execution_count": 26,
   "metadata": {},
   "outputs": [],
   "source": [
    "vbles_fecha = ['inspection_date']\n",
    "df_profiling_fechas = data_profiling_fechas(vbles_fecha, df)"
   ]
  },
  {
   "cell_type": "code",
   "execution_count": 27,
   "metadata": {},
   "outputs": [
    {
     "data": {
      "text/html": [
       "<div>\n",
       "<style scoped>\n",
       "    .dataframe tbody tr th:only-of-type {\n",
       "        vertical-align: middle;\n",
       "    }\n",
       "\n",
       "    .dataframe tbody tr th {\n",
       "        vertical-align: top;\n",
       "    }\n",
       "\n",
       "    .dataframe thead th {\n",
       "        text-align: right;\n",
       "    }\n",
       "</style>\n",
       "<table border=\"1\" class=\"dataframe\">\n",
       "  <thead>\n",
       "    <tr style=\"text-align: right;\">\n",
       "      <th></th>\n",
       "      <th>inspection_date</th>\n",
       "    </tr>\n",
       "  </thead>\n",
       "  <tbody>\n",
       "    <tr>\n",
       "      <th>únicos</th>\n",
       "      <td>3482</td>\n",
       "    </tr>\n",
       "    <tr>\n",
       "      <th>moda</th>\n",
       "      <td>0   2013-11-14\n",
       "Name: inspection_date, dtype: d...</td>\n",
       "    </tr>\n",
       "    <tr>\n",
       "      <th>fecha minima</th>\n",
       "      <td>2010-01-04 00:00:00</td>\n",
       "    </tr>\n",
       "    <tr>\n",
       "      <th>fecha máxima</th>\n",
       "      <td>2023-10-13 00:00:00</td>\n",
       "    </tr>\n",
       "    <tr>\n",
       "      <th># años diferentes</th>\n",
       "      <td>14</td>\n",
       "    </tr>\n",
       "    <tr>\n",
       "      <th>dias totales diferentes</th>\n",
       "      <td>5030 days 00:00:00</td>\n",
       "    </tr>\n",
       "  </tbody>\n",
       "</table>\n",
       "</div>"
      ],
      "text/plain": [
       "                                                           inspection_date\n",
       "únicos                                                                3482\n",
       "moda                     0   2013-11-14\n",
       "Name: inspection_date, dtype: d...\n",
       "fecha minima                                           2010-01-04 00:00:00\n",
       "fecha máxima                                           2023-10-13 00:00:00\n",
       "# años diferentes                                                       14\n",
       "dias totales diferentes                                 5030 days 00:00:00"
      ]
     },
     "execution_count": 27,
     "metadata": {},
     "output_type": "execute_result"
    }
   ],
   "source": [
    "df_profiling_fechas"
   ]
  },
  {
   "cell_type": "code",
   "execution_count": 36,
   "metadata": {},
   "outputs": [
    {
     "data": {
      "text/html": [
       "<div>\n",
       "<style scoped>\n",
       "    .dataframe tbody tr th:only-of-type {\n",
       "        vertical-align: middle;\n",
       "    }\n",
       "\n",
       "    .dataframe tbody tr th {\n",
       "        vertical-align: top;\n",
       "    }\n",
       "\n",
       "    .dataframe thead th {\n",
       "        text-align: right;\n",
       "    }\n",
       "</style>\n",
       "<table border=\"1\" class=\"dataframe\">\n",
       "  <thead>\n",
       "    <tr style=\"text-align: right;\">\n",
       "      <th></th>\n",
       "      <th>inspection_date</th>\n",
       "    </tr>\n",
       "  </thead>\n",
       "  <tbody>\n",
       "    <tr>\n",
       "      <th>únicos</th>\n",
       "      <td>3412</td>\n",
       "    </tr>\n",
       "    <tr>\n",
       "      <th>moda</th>\n",
       "      <td>0   2013-11-14\n",
       "Name: inspection_date, dtype: d...</td>\n",
       "    </tr>\n",
       "    <tr>\n",
       "      <th>fecha minima</th>\n",
       "      <td>2010-01-04 00:00:00</td>\n",
       "    </tr>\n",
       "    <tr>\n",
       "      <th>fecha máxima</th>\n",
       "      <td>2023-07-05 00:00:00</td>\n",
       "    </tr>\n",
       "    <tr>\n",
       "      <th># años diferentes</th>\n",
       "      <td>14</td>\n",
       "    </tr>\n",
       "    <tr>\n",
       "      <th>dias totales diferentes</th>\n",
       "      <td>4930 days 00:00:00</td>\n",
       "    </tr>\n",
       "  </tbody>\n",
       "</table>\n",
       "</div>"
      ],
      "text/plain": [
       "                                                           inspection_date\n",
       "únicos                                                                3412\n",
       "moda                     0   2013-11-14\n",
       "Name: inspection_date, dtype: d...\n",
       "fecha minima                                           2010-01-04 00:00:00\n",
       "fecha máxima                                           2023-07-05 00:00:00\n",
       "# años diferentes                                                       14\n",
       "dias totales diferentes                                 4930 days 00:00:00"
      ]
     },
     "execution_count": 36,
     "metadata": {},
     "output_type": "execute_result"
    }
   ],
   "source": [
    "df_profiling_fechas"
   ]
  },
  {
   "cell_type": "markdown",
   "metadata": {},
   "source": [
    "## 11. Function guardar_datos_s3\n",
    "It receives as parameters the name of the bucket applications-cd-1-mcda22d008, the path where to save the clean data and the data frame that already has the data with the correct types.\n",
    "\n",
    "The file name must be clean-data-2023-xx-xx-xx.pkl. Where the year, month and day corresponds to the day the script is executed and is obtained dynamically through the today function of the datetime.time package."
   ]
  },
  {
   "cell_type": "code",
   "execution_count": 28,
   "metadata": {},
   "outputs": [],
   "source": [
    "from datetime import datetime\n",
    "hoy = datetime.today()"
   ]
  },
  {
   "cell_type": "code",
   "execution_count": 29,
   "metadata": {},
   "outputs": [],
   "source": [
    "def f(row):\n",
    "    return \"%d-%02d-%02d\" % (row.year, row.month, row.day)\n",
    "hoy = f(hoy)"
   ]
  },
  {
   "cell_type": "code",
   "execution_count": 39,
   "metadata": {},
   "outputs": [],
   "source": [
    "def guardar_datos_s3(bucket, key, df_limpio):    \n",
    "    session = boto3.Session(\n",
    "        aws_access_key_id = config['s3']['aws_access_key_id'],\n",
    "        aws_secret_access_key = config['s3']['aws_secret_access_key'],\n",
    "        aws_session_token = config['s3']['aws_session_token']\n",
    "    )\n",
    "    s3 = session.resource('s3')\n",
    "    s3.Object(bucket, key).put(Body = df_limpio)"
   ]
  },
  {
   "cell_type": "code",
   "execution_count": 30,
   "metadata": {},
   "outputs": [],
   "source": [
    "df_limpio = pickle.dumps(df)"
   ]
  },
  {
   "cell_type": "code",
   "execution_count": 40,
   "metadata": {},
   "outputs": [],
   "source": [
    "bucket = 'aplicaciones-cd-1-' + config['iexe']['matricula']\n",
    "key = \"ingesta/inicial/\" + \"datos-limpios-\" + hoy + '.pkl'\n",
    "guardar_datos_s3(bucket, key, df_limpio)"
   ]
  },
  {
   "attachments": {
    "image.png": {
     "image/png": "[encoded data removed]"
    }
   },
   "cell_type": "markdown",
   "metadata": {},
   "source": [
    "![](attachment:image.png)"
   ]
  },
  {
   "cell_type": "code",
   "execution_count": 31,
   "metadata": {},
   "outputs": [],
   "source": [
    "key = \"datos-limpios-\" + hoy + '.pkl'\n",
    "pickle.dump(df, open(key,'wb')) "
   ]
  }
 ],
 "metadata": {
  "kernelspec": {
   "display_name": "base",
   "language": "python",
   "name": "python3"
  },
  "language_info": {
   "codemirror_mode": {
    "name": "ipython",
    "version": 3
   },
   "file_extension": ".py",
   "mimetype": "text/x-python",
   "name": "python",
   "nbconvert_exporter": "python",
   "pygments_lexer": "ipython3",
   "version": "3.9.13"
  },
  "orig_nbformat": 4
 },
 "nbformat": 4,
 "nbformat_minor": 2
}
